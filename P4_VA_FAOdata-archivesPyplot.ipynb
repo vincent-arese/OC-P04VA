{
  "cells": [
    {
      "cell_type": "markdown",
      "metadata": {
        "id": "view-in-github",
        "colab_type": "text"
      },
      "source": [
        "<a href=\"https://colab.research.google.com/github/vincent-arese/OC-P04VA/blob/main/P4_VA_FAOdata-archivesPyplot.ipynb\" target=\"_parent\"><img src=\"https://colab.research.google.com/assets/colab-badge.svg\" alt=\"Open In Colab\"/></a>"
      ]
    },
    {
      "cell_type": "markdown",
      "metadata": {
        "id": "zImFbsfhJPeB"
      },
      "source": [
        "# P4-VA Panorama de l’état de la malnutrition dans le monde (FAO 2017)"
      ]
    },
    {
      "cell_type": "markdown",
      "metadata": {
        "id": "gJnn_Bl2JumW"
      },
      "source": [
        "Dataset : FAO stat : "
      ]
    },
    {
      "cell_type": "markdown",
      "metadata": {
        "id": "r1PWnkNUJ6tX"
      },
      "source": [
        "# Environnement de travail et  Data set"
      ]
    },
    {
      "cell_type": "markdown",
      "source": [
        "### pip install"
      ],
      "metadata": {
        "id": "8ySDeXJoz5h1"
      }
    },
    {
      "cell_type": "code",
      "source": [
        "#Prepa Env PIP\n",
        "# librairie pour combiner Pyhton & SQL https://towardsdatascience.com/fugue-and-duckdb-fast-sql-code-in-python-e2e2dfc0f8eb\n",
        "#!pip install -U fugue[duckdb,sql] \n",
        "# !pip install pandas-bokeh\n",
        "\n",
        "#  TO DEL    !pip install -U dash \n",
        "\n",
        "#! pip list -v\n",
        "# ! pip list -v | grep [Pp]an \n",
        "# ! pip list -v | grep [Pp]lot\n",
        "# ! pip list -v | grep [Ss]ea\n",
        "\n",
        "# ! pip install --upgrade pandas"
      ],
      "metadata": {
        "id": "2bmuOVSEFCAe"
      },
      "execution_count": null,
      "outputs": []
    },
    {
      "cell_type": "markdown",
      "source": [
        "### Librairies"
      ],
      "metadata": {
        "id": "vbOvWEbr0Ai-"
      }
    },
    {
      "cell_type": "code",
      "execution_count": 9,
      "metadata": {
        "id": "Kq7ulPx3JO6c"
      },
      "outputs": [],
      "source": [
        "#Charger les librairies Pythons \n",
        "import numpy as np\n",
        "import pandas as pd\n",
        "from pandas.core.groupby.generic import DataFrameGroupBy\n",
        "pd.set_option('display.max_columns', None)  #pd.set_option('max_columns', 10) limiter le nbr de colonnes visualisé à 10 /none (=> scrollbar)\n",
        "pd.set_option('display.max_rows', 40)\n",
        "import matplotlib.pyplot as plt\n",
        "import seaborn as sns\n",
        "import plotly.express as px\n",
        "import pandas_bokeh\n",
        "#import fugue_duckdb\n",
        "#from fugue_notebook import setup ;setup()"
      ]
    },
    {
      "cell_type": "markdown",
      "source": [
        "### Fonction Personalisées"
      ],
      "metadata": {
        "id": "3t2uG2R3p1Hn"
      }
    },
    {
      "cell_type": "code",
      "source": [
        "#Fonction : Décrire un Data Frame\n",
        "def DECRIRE(DataFrame):\n",
        "  \"\"\"\"Description personalisé d'un DataFrame \n",
        "  DECRIRE(DataFrame)  : Nom du dataframe\n",
        "  frait un print  :  DataFrame.info()  - DataFrame.Describeo()  - Sommpe des Nulls - Data.colomuns \n",
        "  \"\"\"\n",
        "  data=DataFrame\n",
        "  return print(data.info(),'\\n \\n Describe :\\n', data.describe(), '\\n\\n Nb de NaN:',data.isnull().sum(axis=0),'\\n\\n liste_des_Colonnes :', data.columns)  # Compter les nan   "
      ],
      "metadata": {
        "id": "G6XtCROIkvr9"
      },
      "execution_count": 10,
      "outputs": []
    },
    {
      "cell_type": "code",
      "source": [
        "# Fonction Recherche Valeur dans un DataFrame\n",
        "def RECHERCHEV(DataFrame,Valeur):\n",
        " dfx=DataFrame.mask(Valeur)\n",
        " return dfx"
      ],
      "metadata": {
        "id": "ClZSI2jUNdlh"
      },
      "execution_count": 11,
      "outputs": []
    },
    {
      "cell_type": "code",
      "source": [
        "# #Recherche valeur (val) dans un data frame\n",
        "# val=0 ;df=dispo\n",
        "# print(df[df['Habitant_millions'] == val].sum())\n",
        "# print(df[df[\"Exports\"] == val].count()) ; #df[df[\"Exports\"] == val]"
      ],
      "metadata": {
        "id": "rr0rImN7M20z"
      },
      "execution_count": 12,
      "outputs": []
    },
    {
      "cell_type": "markdown",
      "metadata": {
        "id": "eVdELgKX_7Pp"
      },
      "source": [
        "## Data Set FAO"
      ]
    },
    {
      "cell_type": "code",
      "execution_count": 13,
      "metadata": {
        "colab": {
          "base_uri": "https://localhost:8080/"
        },
        "id": "yGyKaByrSBL8",
        "outputId": "26b6f833-5358-40d7-d390-3deaabda8a48"
      },
      "outputs": [
        {
          "output_type": "stream",
          "name": "stdout",
          "text": [
            "https://github.com/vincent-arese/OC-P04VA/tree/main/FAOdata\n"
          ]
        }
      ],
      "source": [
        "#  Importer les données en Pandas dataframe\n",
        "#aideDataPATH='/content/drive/MyDrive/DataSc/P4VA/'\n",
        "DataPATH='https://raw.githubusercontent.com/vincent-arese/OC-P04VA/main/FAOdata/'\n",
        "\n",
        "#DEBUG print(DataPATH+'SecuAlimUTF8.csv',': Pd.read OK')\n",
        "\n",
        "SecuAlimRAW=pd.read_csv(DataPATH+'SecuAlimUTF8.csv',sep=';')\n",
        "# BilanAlimRAW=pd.read_csv(DataPATH+'BilansAlimentaires-UTF8.zip',sep=',') #####  ERUEUR\n",
        "AideAlimRAW=pd.read_csv(DataPATH+'FAOSTAT_aideAlimentaire.csv',sep=',',usecols = [i for i in range(2,12)])\n",
        "\n",
        "\n",
        "#Population mondiale\n",
        "\n",
        "\n",
        "\n",
        "ListeProduitsFAO=pd.read_excel('https://github.com/vincent-arese/OC-P04VA/blob/main/FAOdata/FAOProduits.xlsx?raw=true', sheet_name='listeProduitMini',usecols = [i for i in range(5)]) # Codes produits FAO\n",
        "PAYS=pd.read_excel('https://github.com/vincent-arese/OC-P04VA/blob/main/FAOdata/PAYS%20_FAO.xlsx?raw=true', sheet_name='PaysFAO')   # DataSet pour plot map monde \n",
        "\n",
        "print(\"https://github.com/vincent-arese/OC-P04VA/tree/main/FAOdata\") # Lien vers le repertoire Github\n",
        "\n"
      ]
    },
    {
      "cell_type": "markdown",
      "source": [
        "### Population Mondiale"
      ],
      "metadata": {
        "id": "duzsga3Vkvud"
      }
    },
    {
      "cell_type": "code",
      "source": [
        "# Population Mondiale RAW dataSet FAO  source : https://www.fao.org/faostat/fr/#data/FBSH\n",
        "popI=pd.read_csv(DataPATH+'FAOSTAT_pop1961-2013.csv',sep=',')\n",
        "popII=pd.read_csv(DataPATH+'FAOSTAT_pop2010-2019.csv',sep=',')\n",
        "popII.rename(columns={'Code zone (FAO)':'Code zone'},inplace=True) # Renommer la colonne qui servira de fK pour la jonction \n",
        "\n",
        "#Debug\n",
        "# popI.columns==popII.columns  # Ok\n",
        "# popI[(popI.Année<2010)].Année.unique()   # [1961,2009]\n",
        "# popII.Année.unique()  # [2010,2019]\n",
        "#pop=pd.merge(popI, popII, how='outer')\n",
        "\n",
        "# Merge des deux CSV\n",
        "pop=pd.merge(popI[popI.Année<=2009], popII, how='outer')\n",
        "# pop[(pop.Zone=='Afghanistan') & (pop.Année>=2005)] # Verification pas de doublon\n",
        "\n",
        "\n",
        "# Nettoyage Data Frame pop\n",
        "\n",
        "pop=pop.iloc[:,[i for i in range(2,12)]] # supression rapide des colonnes inutiles\n",
        "\n",
        "# pop.columns\n",
        "\"\"\"Index(['Code Domaine', 'Domaine', 'Code zone', 'Zone', 'Code Élément',\n",
        "       'Élément', 'Code Produit', 'Produit', 'Code année', 'Année', 'Unité',\n",
        "       'Valeur', 'Symbole', 'Description du Symbole', 'Code zone (FAO)'],\n",
        "      dtype='object')\"\"\"\n",
        "\n",
        "pop.drop(columns=['Code année','Code Élément','Élément','Unité', 'Code Produit', 'Produit'],inplace=True) # supression colonnes inutiles restantes\n",
        "\n",
        "pop.rename(columns={'Code zone':'CodeZone','Valeur':'Population'},inplace=True) # Reommer colonnes\n",
        "pop.Population=(pop.Population*1000) # Convertion Population  (  car était exprimé en milliers )\n",
        "pop['PopulationM']=pop.Population/10**6  # Creation Pop Million\n",
        "pop\n",
        "\n",
        "\n",
        "# Recherche des NaN\n",
        "# pop.isnull().sum(axis=0) # recherche & sommme des Nan ds chaque colonne   # OK pas de NaN\n",
        "# pop[pop.isnull().any(axis=1)] # Visuliser les lignes contenant au moins un NaN\n",
        "\n",
        "# DEBUG  recherche origine CodeZone Manquant suite à la jointure  \n",
        "# print(pop[pop.isnull().any(axis=1)].Zone.unique(),'Nombre :',len(pop[pop.isnull().any(axis=1)].Zone.unique())) # Visuliser les lignes contenant au moins un NaN  / listes des pays concernés "
      ],
      "metadata": {
        "colab": {
          "base_uri": "https://localhost:8080/",
          "height": 423
        },
        "id": "G5b2EsbeEqjp",
        "outputId": "6a7d7987-ef44-42e5-c190-9f3e1d125079"
      },
      "execution_count": 14,
      "outputs": [
        {
          "output_type": "execute_result",
          "data": {
            "text/plain": [
              "      CodeZone         Zone  Année  Population  PopulationM\n",
              "0            2  Afghanistan   1961   8954000.0        8.954\n",
              "1            2  Afghanistan   1962   9142000.0        9.142\n",
              "2            2  Afghanistan   1963   9340000.0        9.340\n",
              "3            2  Afghanistan   1964   9547000.0        9.547\n",
              "4            2  Afghanistan   1965   9765000.0        9.765\n",
              "...        ...          ...    ...         ...          ...\n",
              "9710       181     Zimbabwe   2015  13815000.0       13.815\n",
              "9711       181     Zimbabwe   2016  14030000.0       14.030\n",
              "9712       181     Zimbabwe   2017  14237000.0       14.237\n",
              "9713       181     Zimbabwe   2018  14439000.0       14.439\n",
              "9714       181     Zimbabwe   2019  14645000.0       14.645\n",
              "\n",
              "[9715 rows x 5 columns]"
            ],
            "text/html": [
              "\n",
              "  <div id=\"df-866a13f1-cb93-4d16-b223-20da225b24ba\">\n",
              "    <div class=\"colab-df-container\">\n",
              "      <div>\n",
              "<style scoped>\n",
              "    .dataframe tbody tr th:only-of-type {\n",
              "        vertical-align: middle;\n",
              "    }\n",
              "\n",
              "    .dataframe tbody tr th {\n",
              "        vertical-align: top;\n",
              "    }\n",
              "\n",
              "    .dataframe thead th {\n",
              "        text-align: right;\n",
              "    }\n",
              "</style>\n",
              "<table border=\"1\" class=\"dataframe\">\n",
              "  <thead>\n",
              "    <tr style=\"text-align: right;\">\n",
              "      <th></th>\n",
              "      <th>CodeZone</th>\n",
              "      <th>Zone</th>\n",
              "      <th>Année</th>\n",
              "      <th>Population</th>\n",
              "      <th>PopulationM</th>\n",
              "    </tr>\n",
              "  </thead>\n",
              "  <tbody>\n",
              "    <tr>\n",
              "      <th>0</th>\n",
              "      <td>2</td>\n",
              "      <td>Afghanistan</td>\n",
              "      <td>1961</td>\n",
              "      <td>8954000.0</td>\n",
              "      <td>8.954</td>\n",
              "    </tr>\n",
              "    <tr>\n",
              "      <th>1</th>\n",
              "      <td>2</td>\n",
              "      <td>Afghanistan</td>\n",
              "      <td>1962</td>\n",
              "      <td>9142000.0</td>\n",
              "      <td>9.142</td>\n",
              "    </tr>\n",
              "    <tr>\n",
              "      <th>2</th>\n",
              "      <td>2</td>\n",
              "      <td>Afghanistan</td>\n",
              "      <td>1963</td>\n",
              "      <td>9340000.0</td>\n",
              "      <td>9.340</td>\n",
              "    </tr>\n",
              "    <tr>\n",
              "      <th>3</th>\n",
              "      <td>2</td>\n",
              "      <td>Afghanistan</td>\n",
              "      <td>1964</td>\n",
              "      <td>9547000.0</td>\n",
              "      <td>9.547</td>\n",
              "    </tr>\n",
              "    <tr>\n",
              "      <th>4</th>\n",
              "      <td>2</td>\n",
              "      <td>Afghanistan</td>\n",
              "      <td>1965</td>\n",
              "      <td>9765000.0</td>\n",
              "      <td>9.765</td>\n",
              "    </tr>\n",
              "    <tr>\n",
              "      <th>...</th>\n",
              "      <td>...</td>\n",
              "      <td>...</td>\n",
              "      <td>...</td>\n",
              "      <td>...</td>\n",
              "      <td>...</td>\n",
              "    </tr>\n",
              "    <tr>\n",
              "      <th>9710</th>\n",
              "      <td>181</td>\n",
              "      <td>Zimbabwe</td>\n",
              "      <td>2015</td>\n",
              "      <td>13815000.0</td>\n",
              "      <td>13.815</td>\n",
              "    </tr>\n",
              "    <tr>\n",
              "      <th>9711</th>\n",
              "      <td>181</td>\n",
              "      <td>Zimbabwe</td>\n",
              "      <td>2016</td>\n",
              "      <td>14030000.0</td>\n",
              "      <td>14.030</td>\n",
              "    </tr>\n",
              "    <tr>\n",
              "      <th>9712</th>\n",
              "      <td>181</td>\n",
              "      <td>Zimbabwe</td>\n",
              "      <td>2017</td>\n",
              "      <td>14237000.0</td>\n",
              "      <td>14.237</td>\n",
              "    </tr>\n",
              "    <tr>\n",
              "      <th>9713</th>\n",
              "      <td>181</td>\n",
              "      <td>Zimbabwe</td>\n",
              "      <td>2018</td>\n",
              "      <td>14439000.0</td>\n",
              "      <td>14.439</td>\n",
              "    </tr>\n",
              "    <tr>\n",
              "      <th>9714</th>\n",
              "      <td>181</td>\n",
              "      <td>Zimbabwe</td>\n",
              "      <td>2019</td>\n",
              "      <td>14645000.0</td>\n",
              "      <td>14.645</td>\n",
              "    </tr>\n",
              "  </tbody>\n",
              "</table>\n",
              "<p>9715 rows × 5 columns</p>\n",
              "</div>\n",
              "      <button class=\"colab-df-convert\" onclick=\"convertToInteractive('df-866a13f1-cb93-4d16-b223-20da225b24ba')\"\n",
              "              title=\"Convert this dataframe to an interactive table.\"\n",
              "              style=\"display:none;\">\n",
              "        \n",
              "  <svg xmlns=\"http://www.w3.org/2000/svg\" height=\"24px\"viewBox=\"0 0 24 24\"\n",
              "       width=\"24px\">\n",
              "    <path d=\"M0 0h24v24H0V0z\" fill=\"none\"/>\n",
              "    <path d=\"M18.56 5.44l.94 2.06.94-2.06 2.06-.94-2.06-.94-.94-2.06-.94 2.06-2.06.94zm-11 1L8.5 8.5l.94-2.06 2.06-.94-2.06-.94L8.5 2.5l-.94 2.06-2.06.94zm10 10l.94 2.06.94-2.06 2.06-.94-2.06-.94-.94-2.06-.94 2.06-2.06.94z\"/><path d=\"M17.41 7.96l-1.37-1.37c-.4-.4-.92-.59-1.43-.59-.52 0-1.04.2-1.43.59L10.3 9.45l-7.72 7.72c-.78.78-.78 2.05 0 2.83L4 21.41c.39.39.9.59 1.41.59.51 0 1.02-.2 1.41-.59l7.78-7.78 2.81-2.81c.8-.78.8-2.07 0-2.86zM5.41 20L4 18.59l7.72-7.72 1.47 1.35L5.41 20z\"/>\n",
              "  </svg>\n",
              "      </button>\n",
              "      \n",
              "  <style>\n",
              "    .colab-df-container {\n",
              "      display:flex;\n",
              "      flex-wrap:wrap;\n",
              "      gap: 12px;\n",
              "    }\n",
              "\n",
              "    .colab-df-convert {\n",
              "      background-color: #E8F0FE;\n",
              "      border: none;\n",
              "      border-radius: 50%;\n",
              "      cursor: pointer;\n",
              "      display: none;\n",
              "      fill: #1967D2;\n",
              "      height: 32px;\n",
              "      padding: 0 0 0 0;\n",
              "      width: 32px;\n",
              "    }\n",
              "\n",
              "    .colab-df-convert:hover {\n",
              "      background-color: #E2EBFA;\n",
              "      box-shadow: 0px 1px 2px rgba(60, 64, 67, 0.3), 0px 1px 3px 1px rgba(60, 64, 67, 0.15);\n",
              "      fill: #174EA6;\n",
              "    }\n",
              "\n",
              "    [theme=dark] .colab-df-convert {\n",
              "      background-color: #3B4455;\n",
              "      fill: #D2E3FC;\n",
              "    }\n",
              "\n",
              "    [theme=dark] .colab-df-convert:hover {\n",
              "      background-color: #434B5C;\n",
              "      box-shadow: 0px 1px 3px 1px rgba(0, 0, 0, 0.15);\n",
              "      filter: drop-shadow(0px 1px 2px rgba(0, 0, 0, 0.3));\n",
              "      fill: #FFFFFF;\n",
              "    }\n",
              "  </style>\n",
              "\n",
              "      <script>\n",
              "        const buttonEl =\n",
              "          document.querySelector('#df-866a13f1-cb93-4d16-b223-20da225b24ba button.colab-df-convert');\n",
              "        buttonEl.style.display =\n",
              "          google.colab.kernel.accessAllowed ? 'block' : 'none';\n",
              "\n",
              "        async function convertToInteractive(key) {\n",
              "          const element = document.querySelector('#df-866a13f1-cb93-4d16-b223-20da225b24ba');\n",
              "          const dataTable =\n",
              "            await google.colab.kernel.invokeFunction('convertToInteractive',\n",
              "                                                     [key], {});\n",
              "          if (!dataTable) return;\n",
              "\n",
              "          const docLinkHtml = 'Like what you see? Visit the ' +\n",
              "            '<a target=\"_blank\" href=https://colab.research.google.com/notebooks/data_table.ipynb>data table notebook</a>'\n",
              "            + ' to learn more about interactive tables.';\n",
              "          element.innerHTML = '';\n",
              "          dataTable['output_type'] = 'display_data';\n",
              "          await google.colab.output.renderOutput(dataTable, element);\n",
              "          const docLink = document.createElement('div');\n",
              "          docLink.innerHTML = docLinkHtml;\n",
              "          element.appendChild(docLink);\n",
              "        }\n",
              "      </script>\n",
              "    </div>\n",
              "  </div>\n",
              "  "
            ]
          },
          "metadata": {},
          "execution_count": 14
        }
      ]
    },
    {
      "cell_type": "markdown",
      "source": [
        "### PIB par habitant, (US$ PPA internationaux constants de 2015)"
      ],
      "metadata": {
        "id": "b6gN91NYuGTv"
      }
    },
    {
      "cell_type": "code",
      "source": [
        "# PIB par habitant, (US$ PPA internationaux constants de 2015) dataSet FAO  source : https://www.fao.org/faostat/fr/#data/PD\n",
        "pib=pd.read_csv(DataPATH+'FAOSTAT_PIBhab-1970-2019.csv',sep=',',usecols = [i for i in range(2,12)]) \n",
        "\n",
        "\n",
        "# Nettoyage PIB \n",
        "# pibRAW.columns \"\"\"Index(['Code zone (FAO)', 'Zone', 'Code ?l?ment', '?l?ment', 'Code Produit','Produit', 'Code ann?e', 'Ann?e', 'Unit?', 'Valeur'], dtype='object')\"\"\"\n",
        "pib.drop(columns=['Code ?l?ment', '?l?ment', 'Code ann?e', 'Unit?', 'Code Produit','Produit'],inplace=True) # supression colonnes inutiles restantes\n",
        "pib.rename(columns={'Code zone (FAO)':'CodeZone','Ann?e':'Année','Valeur':'USDparHab'},inplace=True) # Renommer la colonne qui servira de fK pour la jonction \n",
        "pib"
      ],
      "metadata": {
        "colab": {
          "base_uri": "https://localhost:8080/",
          "height": 423
        },
        "id": "ntrBdB5buFX_",
        "outputId": "b9824939-feb3-4b5f-e880-a2b64bfa3c93"
      },
      "execution_count": 15,
      "outputs": [
        {
          "output_type": "execute_result",
          "data": {
            "text/plain": [
              "       CodeZone         Zone  Année  USDparHab\n",
              "0             2  Afghanistan   1970    16.5409\n",
              "1             2  Afghanistan   1971    17.3665\n",
              "2             2  Afghanistan   1972    18.1058\n",
              "3             2  Afghanistan   1973    19.0936\n",
              "4             2  Afghanistan   1974    22.0401\n",
              "...         ...          ...    ...        ...\n",
              "10009       181     Zimbabwe   2015   100.0000\n",
              "10010       181     Zimbabwe   2016   102.1610\n",
              "10011       181     Zimbabwe   2017   104.6570\n",
              "10012       181     Zimbabwe   2018   110.1200\n",
              "10013       181     Zimbabwe   2019   105.6760\n",
              "\n",
              "[10014 rows x 4 columns]"
            ],
            "text/html": [
              "\n",
              "  <div id=\"df-91d8ecdc-792e-4e89-ba83-035c4346c7ec\">\n",
              "    <div class=\"colab-df-container\">\n",
              "      <div>\n",
              "<style scoped>\n",
              "    .dataframe tbody tr th:only-of-type {\n",
              "        vertical-align: middle;\n",
              "    }\n",
              "\n",
              "    .dataframe tbody tr th {\n",
              "        vertical-align: top;\n",
              "    }\n",
              "\n",
              "    .dataframe thead th {\n",
              "        text-align: right;\n",
              "    }\n",
              "</style>\n",
              "<table border=\"1\" class=\"dataframe\">\n",
              "  <thead>\n",
              "    <tr style=\"text-align: right;\">\n",
              "      <th></th>\n",
              "      <th>CodeZone</th>\n",
              "      <th>Zone</th>\n",
              "      <th>Année</th>\n",
              "      <th>USDparHab</th>\n",
              "    </tr>\n",
              "  </thead>\n",
              "  <tbody>\n",
              "    <tr>\n",
              "      <th>0</th>\n",
              "      <td>2</td>\n",
              "      <td>Afghanistan</td>\n",
              "      <td>1970</td>\n",
              "      <td>16.5409</td>\n",
              "    </tr>\n",
              "    <tr>\n",
              "      <th>1</th>\n",
              "      <td>2</td>\n",
              "      <td>Afghanistan</td>\n",
              "      <td>1971</td>\n",
              "      <td>17.3665</td>\n",
              "    </tr>\n",
              "    <tr>\n",
              "      <th>2</th>\n",
              "      <td>2</td>\n",
              "      <td>Afghanistan</td>\n",
              "      <td>1972</td>\n",
              "      <td>18.1058</td>\n",
              "    </tr>\n",
              "    <tr>\n",
              "      <th>3</th>\n",
              "      <td>2</td>\n",
              "      <td>Afghanistan</td>\n",
              "      <td>1973</td>\n",
              "      <td>19.0936</td>\n",
              "    </tr>\n",
              "    <tr>\n",
              "      <th>4</th>\n",
              "      <td>2</td>\n",
              "      <td>Afghanistan</td>\n",
              "      <td>1974</td>\n",
              "      <td>22.0401</td>\n",
              "    </tr>\n",
              "    <tr>\n",
              "      <th>...</th>\n",
              "      <td>...</td>\n",
              "      <td>...</td>\n",
              "      <td>...</td>\n",
              "      <td>...</td>\n",
              "    </tr>\n",
              "    <tr>\n",
              "      <th>10009</th>\n",
              "      <td>181</td>\n",
              "      <td>Zimbabwe</td>\n",
              "      <td>2015</td>\n",
              "      <td>100.0000</td>\n",
              "    </tr>\n",
              "    <tr>\n",
              "      <th>10010</th>\n",
              "      <td>181</td>\n",
              "      <td>Zimbabwe</td>\n",
              "      <td>2016</td>\n",
              "      <td>102.1610</td>\n",
              "    </tr>\n",
              "    <tr>\n",
              "      <th>10011</th>\n",
              "      <td>181</td>\n",
              "      <td>Zimbabwe</td>\n",
              "      <td>2017</td>\n",
              "      <td>104.6570</td>\n",
              "    </tr>\n",
              "    <tr>\n",
              "      <th>10012</th>\n",
              "      <td>181</td>\n",
              "      <td>Zimbabwe</td>\n",
              "      <td>2018</td>\n",
              "      <td>110.1200</td>\n",
              "    </tr>\n",
              "    <tr>\n",
              "      <th>10013</th>\n",
              "      <td>181</td>\n",
              "      <td>Zimbabwe</td>\n",
              "      <td>2019</td>\n",
              "      <td>105.6760</td>\n",
              "    </tr>\n",
              "  </tbody>\n",
              "</table>\n",
              "<p>10014 rows × 4 columns</p>\n",
              "</div>\n",
              "      <button class=\"colab-df-convert\" onclick=\"convertToInteractive('df-91d8ecdc-792e-4e89-ba83-035c4346c7ec')\"\n",
              "              title=\"Convert this dataframe to an interactive table.\"\n",
              "              style=\"display:none;\">\n",
              "        \n",
              "  <svg xmlns=\"http://www.w3.org/2000/svg\" height=\"24px\"viewBox=\"0 0 24 24\"\n",
              "       width=\"24px\">\n",
              "    <path d=\"M0 0h24v24H0V0z\" fill=\"none\"/>\n",
              "    <path d=\"M18.56 5.44l.94 2.06.94-2.06 2.06-.94-2.06-.94-.94-2.06-.94 2.06-2.06.94zm-11 1L8.5 8.5l.94-2.06 2.06-.94-2.06-.94L8.5 2.5l-.94 2.06-2.06.94zm10 10l.94 2.06.94-2.06 2.06-.94-2.06-.94-.94-2.06-.94 2.06-2.06.94z\"/><path d=\"M17.41 7.96l-1.37-1.37c-.4-.4-.92-.59-1.43-.59-.52 0-1.04.2-1.43.59L10.3 9.45l-7.72 7.72c-.78.78-.78 2.05 0 2.83L4 21.41c.39.39.9.59 1.41.59.51 0 1.02-.2 1.41-.59l7.78-7.78 2.81-2.81c.8-.78.8-2.07 0-2.86zM5.41 20L4 18.59l7.72-7.72 1.47 1.35L5.41 20z\"/>\n",
              "  </svg>\n",
              "      </button>\n",
              "      \n",
              "  <style>\n",
              "    .colab-df-container {\n",
              "      display:flex;\n",
              "      flex-wrap:wrap;\n",
              "      gap: 12px;\n",
              "    }\n",
              "\n",
              "    .colab-df-convert {\n",
              "      background-color: #E8F0FE;\n",
              "      border: none;\n",
              "      border-radius: 50%;\n",
              "      cursor: pointer;\n",
              "      display: none;\n",
              "      fill: #1967D2;\n",
              "      height: 32px;\n",
              "      padding: 0 0 0 0;\n",
              "      width: 32px;\n",
              "    }\n",
              "\n",
              "    .colab-df-convert:hover {\n",
              "      background-color: #E2EBFA;\n",
              "      box-shadow: 0px 1px 2px rgba(60, 64, 67, 0.3), 0px 1px 3px 1px rgba(60, 64, 67, 0.15);\n",
              "      fill: #174EA6;\n",
              "    }\n",
              "\n",
              "    [theme=dark] .colab-df-convert {\n",
              "      background-color: #3B4455;\n",
              "      fill: #D2E3FC;\n",
              "    }\n",
              "\n",
              "    [theme=dark] .colab-df-convert:hover {\n",
              "      background-color: #434B5C;\n",
              "      box-shadow: 0px 1px 3px 1px rgba(0, 0, 0, 0.15);\n",
              "      filter: drop-shadow(0px 1px 2px rgba(0, 0, 0, 0.3));\n",
              "      fill: #FFFFFF;\n",
              "    }\n",
              "  </style>\n",
              "\n",
              "      <script>\n",
              "        const buttonEl =\n",
              "          document.querySelector('#df-91d8ecdc-792e-4e89-ba83-035c4346c7ec button.colab-df-convert');\n",
              "        buttonEl.style.display =\n",
              "          google.colab.kernel.accessAllowed ? 'block' : 'none';\n",
              "\n",
              "        async function convertToInteractive(key) {\n",
              "          const element = document.querySelector('#df-91d8ecdc-792e-4e89-ba83-035c4346c7ec');\n",
              "          const dataTable =\n",
              "            await google.colab.kernel.invokeFunction('convertToInteractive',\n",
              "                                                     [key], {});\n",
              "          if (!dataTable) return;\n",
              "\n",
              "          const docLinkHtml = 'Like what you see? Visit the ' +\n",
              "            '<a target=\"_blank\" href=https://colab.research.google.com/notebooks/data_table.ipynb>data table notebook</a>'\n",
              "            + ' to learn more about interactive tables.';\n",
              "          element.innerHTML = '';\n",
              "          dataTable['output_type'] = 'display_data';\n",
              "          await google.colab.output.renderOutput(dataTable, element);\n",
              "          const docLink = document.createElement('div');\n",
              "          docLink.innerHTML = docLinkHtml;\n",
              "          element.appendChild(docLink);\n",
              "        }\n",
              "      </script>\n",
              "    </div>\n",
              "  </div>\n",
              "  "
            ]
          },
          "metadata": {},
          "execution_count": 15
        }
      ]
    },
    {
      "cell_type": "markdown",
      "source": [
        "#### test des NaN  "
      ],
      "metadata": {
        "id": "lJWW6fYASaaV"
      }
    },
    {
      "cell_type": "code",
      "source": [
        "# DEBUG  recherche NaN   - OK \n",
        "# temp=pib\n",
        "# temp.isnull().sum(axis=0) # Total nombre de NaN par colonne\n",
        "# # test=temp[temp.isnull().any(axis=1)] ; test #Afficher les lignes ayant au moins 1 NaN\n",
        "# len(test)\n",
        "# test.Zone.unique()"
      ],
      "metadata": {
        "id": "lS8xOow5SPB8"
      },
      "execution_count": 16,
      "outputs": []
    },
    {
      "cell_type": "markdown",
      "source": [
        "### Liste Pays"
      ],
      "metadata": {
        "id": "OneBozPQz5iZ"
      }
    },
    {
      "cell_type": "code",
      "source": [
        "# Liste des Pays avec CodeZone FAO  & AlphaISO3 pour plot sur map Monde \n",
        "# source : https://www.fao.org/faostat/fr/#data/FS  Rubrique : Définitions et Standards  Formaté sous Excel\n",
        "PAYS=pd.read_excel('https://github.com/vincent-arese/OC-P04VA/blob/main/FAOdata/PAYS%20_FAO.xlsx?raw=true', sheet_name='PaysFAO')   # DataSet pour plot map monde \n",
        "\n",
        "PAYS.head(1)"
      ],
      "metadata": {
        "colab": {
          "base_uri": "https://localhost:8080/",
          "height": 81
        },
        "id": "jJp8KNAYw0pn",
        "outputId": "4bb0c61f-830d-45d3-a9e3-930bf2cc8a0c"
      },
      "execution_count": 17,
      "outputs": [
        {
          "output_type": "execute_result",
          "data": {
            "text/plain": [
              "   CodeContinent continent  Code_ZoneContinent     ZoneContinent  Code_Pays  \\\n",
              "0           5100   Afrique                5104  Afrique australe        202   \n",
              "\n",
              "             Pays AlphaISO3  \n",
              "0  Afrique du Sud       ZAF  "
            ],
            "text/html": [
              "\n",
              "  <div id=\"df-fffb88d4-6d0f-4011-bcc7-94f5d006d0f1\">\n",
              "    <div class=\"colab-df-container\">\n",
              "      <div>\n",
              "<style scoped>\n",
              "    .dataframe tbody tr th:only-of-type {\n",
              "        vertical-align: middle;\n",
              "    }\n",
              "\n",
              "    .dataframe tbody tr th {\n",
              "        vertical-align: top;\n",
              "    }\n",
              "\n",
              "    .dataframe thead th {\n",
              "        text-align: right;\n",
              "    }\n",
              "</style>\n",
              "<table border=\"1\" class=\"dataframe\">\n",
              "  <thead>\n",
              "    <tr style=\"text-align: right;\">\n",
              "      <th></th>\n",
              "      <th>CodeContinent</th>\n",
              "      <th>continent</th>\n",
              "      <th>Code_ZoneContinent</th>\n",
              "      <th>ZoneContinent</th>\n",
              "      <th>Code_Pays</th>\n",
              "      <th>Pays</th>\n",
              "      <th>AlphaISO3</th>\n",
              "    </tr>\n",
              "  </thead>\n",
              "  <tbody>\n",
              "    <tr>\n",
              "      <th>0</th>\n",
              "      <td>5100</td>\n",
              "      <td>Afrique</td>\n",
              "      <td>5104</td>\n",
              "      <td>Afrique australe</td>\n",
              "      <td>202</td>\n",
              "      <td>Afrique du Sud</td>\n",
              "      <td>ZAF</td>\n",
              "    </tr>\n",
              "  </tbody>\n",
              "</table>\n",
              "</div>\n",
              "      <button class=\"colab-df-convert\" onclick=\"convertToInteractive('df-fffb88d4-6d0f-4011-bcc7-94f5d006d0f1')\"\n",
              "              title=\"Convert this dataframe to an interactive table.\"\n",
              "              style=\"display:none;\">\n",
              "        \n",
              "  <svg xmlns=\"http://www.w3.org/2000/svg\" height=\"24px\"viewBox=\"0 0 24 24\"\n",
              "       width=\"24px\">\n",
              "    <path d=\"M0 0h24v24H0V0z\" fill=\"none\"/>\n",
              "    <path d=\"M18.56 5.44l.94 2.06.94-2.06 2.06-.94-2.06-.94-.94-2.06-.94 2.06-2.06.94zm-11 1L8.5 8.5l.94-2.06 2.06-.94-2.06-.94L8.5 2.5l-.94 2.06-2.06.94zm10 10l.94 2.06.94-2.06 2.06-.94-2.06-.94-.94-2.06-.94 2.06-2.06.94z\"/><path d=\"M17.41 7.96l-1.37-1.37c-.4-.4-.92-.59-1.43-.59-.52 0-1.04.2-1.43.59L10.3 9.45l-7.72 7.72c-.78.78-.78 2.05 0 2.83L4 21.41c.39.39.9.59 1.41.59.51 0 1.02-.2 1.41-.59l7.78-7.78 2.81-2.81c.8-.78.8-2.07 0-2.86zM5.41 20L4 18.59l7.72-7.72 1.47 1.35L5.41 20z\"/>\n",
              "  </svg>\n",
              "      </button>\n",
              "      \n",
              "  <style>\n",
              "    .colab-df-container {\n",
              "      display:flex;\n",
              "      flex-wrap:wrap;\n",
              "      gap: 12px;\n",
              "    }\n",
              "\n",
              "    .colab-df-convert {\n",
              "      background-color: #E8F0FE;\n",
              "      border: none;\n",
              "      border-radius: 50%;\n",
              "      cursor: pointer;\n",
              "      display: none;\n",
              "      fill: #1967D2;\n",
              "      height: 32px;\n",
              "      padding: 0 0 0 0;\n",
              "      width: 32px;\n",
              "    }\n",
              "\n",
              "    .colab-df-convert:hover {\n",
              "      background-color: #E2EBFA;\n",
              "      box-shadow: 0px 1px 2px rgba(60, 64, 67, 0.3), 0px 1px 3px 1px rgba(60, 64, 67, 0.15);\n",
              "      fill: #174EA6;\n",
              "    }\n",
              "\n",
              "    [theme=dark] .colab-df-convert {\n",
              "      background-color: #3B4455;\n",
              "      fill: #D2E3FC;\n",
              "    }\n",
              "\n",
              "    [theme=dark] .colab-df-convert:hover {\n",
              "      background-color: #434B5C;\n",
              "      box-shadow: 0px 1px 3px 1px rgba(0, 0, 0, 0.15);\n",
              "      filter: drop-shadow(0px 1px 2px rgba(0, 0, 0, 0.3));\n",
              "      fill: #FFFFFF;\n",
              "    }\n",
              "  </style>\n",
              "\n",
              "      <script>\n",
              "        const buttonEl =\n",
              "          document.querySelector('#df-fffb88d4-6d0f-4011-bcc7-94f5d006d0f1 button.colab-df-convert');\n",
              "        buttonEl.style.display =\n",
              "          google.colab.kernel.accessAllowed ? 'block' : 'none';\n",
              "\n",
              "        async function convertToInteractive(key) {\n",
              "          const element = document.querySelector('#df-fffb88d4-6d0f-4011-bcc7-94f5d006d0f1');\n",
              "          const dataTable =\n",
              "            await google.colab.kernel.invokeFunction('convertToInteractive',\n",
              "                                                     [key], {});\n",
              "          if (!dataTable) return;\n",
              "\n",
              "          const docLinkHtml = 'Like what you see? Visit the ' +\n",
              "            '<a target=\"_blank\" href=https://colab.research.google.com/notebooks/data_table.ipynb>data table notebook</a>'\n",
              "            + ' to learn more about interactive tables.';\n",
              "          element.innerHTML = '';\n",
              "          dataTable['output_type'] = 'display_data';\n",
              "          await google.colab.output.renderOutput(dataTable, element);\n",
              "          const docLink = document.createElement('div');\n",
              "          docLink.innerHTML = docLinkHtml;\n",
              "          element.appendChild(docLink);\n",
              "        }\n",
              "      </script>\n",
              "    </div>\n",
              "  </div>\n",
              "  "
            ]
          },
          "metadata": {},
          "execution_count": 17
        }
      ]
    },
    {
      "cell_type": "markdown",
      "source": [
        "### Recap Géopolitique"
      ],
      "metadata": {
        "id": "AnKWGZm_KNej"
      }
    },
    {
      "cell_type": "code",
      "source": [
        "# Recap Data Géopolitique : Population, PIB par Hab (USD 20015), Liste PAYS\n",
        "\n",
        "# PAYS.columns \n",
        "\"\"\" Index(['CodeContinent', 'continent', 'Code_ZoneContinent', 'ZoneContinent','Code_Pays', 'Pays', 'AlphaISO3'], dtype='object'\"\"\"\n",
        "# pop.columns  \n",
        "\"\"\"Index(['CodeZone', 'Zone', 'Année', 'Population', 'PopulationM'], dtype='object')\"\"\"\n",
        "\n",
        "#pib.columns  \n",
        "\"\"\"Index(['CodeZone', 'Zone', 'Année', 'USDparHab'], dtype='object')\"\"\"\n",
        "\n",
        "# Join :  (PAYS & pop) & pib\n",
        "geo=PAYS.merge(pop,left_on='Code_Pays',right_on='CodeZone').merge(pib,left_on='CodeZone',right_on='CodeZone')\n",
        "geo.drop(columns=['Code_Pays','Pays','Année_y','Zone_y'],inplace=True)\n",
        "geo.rename(columns={'Zone_x':'Zone','Année_x':'Année','continent':'Continent'},inplace=True)\n",
        "geo.Population=geo.Population.astype(int)\n",
        "geo\n",
        "\n",
        "\n",
        "# geo.info()\n",
        "\n",
        "# DEBUG  recherche NaN\n",
        "# temp=geo\n",
        "# temp.isnull().sum(axis=0) # Total nombre de NaN par colonne\n",
        "# test=temp[temp.isnull().any(axis=1)] ; test #Afficher les lignes ayant au moins 1 NaN\n",
        "# len(test)\n",
        "# test.Zone.unique()"
      ],
      "metadata": {
        "id": "HM-enwQQDMPp",
        "colab": {
          "base_uri": "https://localhost:8080/",
          "height": 423
        },
        "outputId": "9305402a-3e0f-4b7e-866f-9f9a68016e68"
      },
      "execution_count": 18,
      "outputs": [
        {
          "output_type": "execute_result",
          "data": {
            "text/plain": [
              "        CodeContinent Continent  Code_ZoneContinent     ZoneContinent  \\\n",
              "0                5100   Afrique                5104  Afrique australe   \n",
              "1                5100   Afrique                5104  Afrique australe   \n",
              "2                5100   Afrique                5104  Afrique australe   \n",
              "3                5100   Afrique                5104  Afrique australe   \n",
              "4                5100   Afrique                5104  Afrique australe   \n",
              "...               ...       ...                 ...               ...   \n",
              "450300           5500   Océanie                5504         Polynésie   \n",
              "450301           5500   Océanie                5504         Polynésie   \n",
              "450302           5500   Océanie                5504         Polynésie   \n",
              "450303           5500   Océanie                5504         Polynésie   \n",
              "450304           5500   Océanie                5504         Polynésie   \n",
              "\n",
              "       AlphaISO3  CodeZone            Zone  Année  Population  PopulationM  \\\n",
              "0            ZAF       202  Afrique du Sud   1961    17850000       17.850   \n",
              "1            ZAF       202  Afrique du Sud   1961    17850000       17.850   \n",
              "2            ZAF       202  Afrique du Sud   1961    17850000       17.850   \n",
              "3            ZAF       202  Afrique du Sud   1961    17850000       17.850   \n",
              "4            ZAF       202  Afrique du Sud   1961    17850000       17.850   \n",
              "...          ...       ...             ...    ...         ...          ...   \n",
              "450300       WSM       244           Samoa   2019      197000        0.197   \n",
              "450301       WSM       244           Samoa   2019      197000        0.197   \n",
              "450302       WSM       244           Samoa   2019      197000        0.197   \n",
              "450303       WSM       244           Samoa   2019      197000        0.197   \n",
              "450304       WSM       244           Samoa   2019      197000        0.197   \n",
              "\n",
              "        USDparHab  \n",
              "0         17.8579  \n",
              "1         18.9013  \n",
              "2         19.5235  \n",
              "3         25.5901  \n",
              "4         30.2913  \n",
              "...           ...  \n",
              "450300   100.0000  \n",
              "450301   100.7050  \n",
              "450302   101.6940  \n",
              "450303   102.1420  \n",
              "450304   101.2240  \n",
              "\n",
              "[450305 rows x 11 columns]"
            ],
            "text/html": [
              "\n",
              "  <div id=\"df-93ce2084-0529-45a3-9ced-8d6850b0008e\">\n",
              "    <div class=\"colab-df-container\">\n",
              "      <div>\n",
              "<style scoped>\n",
              "    .dataframe tbody tr th:only-of-type {\n",
              "        vertical-align: middle;\n",
              "    }\n",
              "\n",
              "    .dataframe tbody tr th {\n",
              "        vertical-align: top;\n",
              "    }\n",
              "\n",
              "    .dataframe thead th {\n",
              "        text-align: right;\n",
              "    }\n",
              "</style>\n",
              "<table border=\"1\" class=\"dataframe\">\n",
              "  <thead>\n",
              "    <tr style=\"text-align: right;\">\n",
              "      <th></th>\n",
              "      <th>CodeContinent</th>\n",
              "      <th>Continent</th>\n",
              "      <th>Code_ZoneContinent</th>\n",
              "      <th>ZoneContinent</th>\n",
              "      <th>AlphaISO3</th>\n",
              "      <th>CodeZone</th>\n",
              "      <th>Zone</th>\n",
              "      <th>Année</th>\n",
              "      <th>Population</th>\n",
              "      <th>PopulationM</th>\n",
              "      <th>USDparHab</th>\n",
              "    </tr>\n",
              "  </thead>\n",
              "  <tbody>\n",
              "    <tr>\n",
              "      <th>0</th>\n",
              "      <td>5100</td>\n",
              "      <td>Afrique</td>\n",
              "      <td>5104</td>\n",
              "      <td>Afrique australe</td>\n",
              "      <td>ZAF</td>\n",
              "      <td>202</td>\n",
              "      <td>Afrique du Sud</td>\n",
              "      <td>1961</td>\n",
              "      <td>17850000</td>\n",
              "      <td>17.850</td>\n",
              "      <td>17.8579</td>\n",
              "    </tr>\n",
              "    <tr>\n",
              "      <th>1</th>\n",
              "      <td>5100</td>\n",
              "      <td>Afrique</td>\n",
              "      <td>5104</td>\n",
              "      <td>Afrique australe</td>\n",
              "      <td>ZAF</td>\n",
              "      <td>202</td>\n",
              "      <td>Afrique du Sud</td>\n",
              "      <td>1961</td>\n",
              "      <td>17850000</td>\n",
              "      <td>17.850</td>\n",
              "      <td>18.9013</td>\n",
              "    </tr>\n",
              "    <tr>\n",
              "      <th>2</th>\n",
              "      <td>5100</td>\n",
              "      <td>Afrique</td>\n",
              "      <td>5104</td>\n",
              "      <td>Afrique australe</td>\n",
              "      <td>ZAF</td>\n",
              "      <td>202</td>\n",
              "      <td>Afrique du Sud</td>\n",
              "      <td>1961</td>\n",
              "      <td>17850000</td>\n",
              "      <td>17.850</td>\n",
              "      <td>19.5235</td>\n",
              "    </tr>\n",
              "    <tr>\n",
              "      <th>3</th>\n",
              "      <td>5100</td>\n",
              "      <td>Afrique</td>\n",
              "      <td>5104</td>\n",
              "      <td>Afrique australe</td>\n",
              "      <td>ZAF</td>\n",
              "      <td>202</td>\n",
              "      <td>Afrique du Sud</td>\n",
              "      <td>1961</td>\n",
              "      <td>17850000</td>\n",
              "      <td>17.850</td>\n",
              "      <td>25.5901</td>\n",
              "    </tr>\n",
              "    <tr>\n",
              "      <th>4</th>\n",
              "      <td>5100</td>\n",
              "      <td>Afrique</td>\n",
              "      <td>5104</td>\n",
              "      <td>Afrique australe</td>\n",
              "      <td>ZAF</td>\n",
              "      <td>202</td>\n",
              "      <td>Afrique du Sud</td>\n",
              "      <td>1961</td>\n",
              "      <td>17850000</td>\n",
              "      <td>17.850</td>\n",
              "      <td>30.2913</td>\n",
              "    </tr>\n",
              "    <tr>\n",
              "      <th>...</th>\n",
              "      <td>...</td>\n",
              "      <td>...</td>\n",
              "      <td>...</td>\n",
              "      <td>...</td>\n",
              "      <td>...</td>\n",
              "      <td>...</td>\n",
              "      <td>...</td>\n",
              "      <td>...</td>\n",
              "      <td>...</td>\n",
              "      <td>...</td>\n",
              "      <td>...</td>\n",
              "    </tr>\n",
              "    <tr>\n",
              "      <th>450300</th>\n",
              "      <td>5500</td>\n",
              "      <td>Océanie</td>\n",
              "      <td>5504</td>\n",
              "      <td>Polynésie</td>\n",
              "      <td>WSM</td>\n",
              "      <td>244</td>\n",
              "      <td>Samoa</td>\n",
              "      <td>2019</td>\n",
              "      <td>197000</td>\n",
              "      <td>0.197</td>\n",
              "      <td>100.0000</td>\n",
              "    </tr>\n",
              "    <tr>\n",
              "      <th>450301</th>\n",
              "      <td>5500</td>\n",
              "      <td>Océanie</td>\n",
              "      <td>5504</td>\n",
              "      <td>Polynésie</td>\n",
              "      <td>WSM</td>\n",
              "      <td>244</td>\n",
              "      <td>Samoa</td>\n",
              "      <td>2019</td>\n",
              "      <td>197000</td>\n",
              "      <td>0.197</td>\n",
              "      <td>100.7050</td>\n",
              "    </tr>\n",
              "    <tr>\n",
              "      <th>450302</th>\n",
              "      <td>5500</td>\n",
              "      <td>Océanie</td>\n",
              "      <td>5504</td>\n",
              "      <td>Polynésie</td>\n",
              "      <td>WSM</td>\n",
              "      <td>244</td>\n",
              "      <td>Samoa</td>\n",
              "      <td>2019</td>\n",
              "      <td>197000</td>\n",
              "      <td>0.197</td>\n",
              "      <td>101.6940</td>\n",
              "    </tr>\n",
              "    <tr>\n",
              "      <th>450303</th>\n",
              "      <td>5500</td>\n",
              "      <td>Océanie</td>\n",
              "      <td>5504</td>\n",
              "      <td>Polynésie</td>\n",
              "      <td>WSM</td>\n",
              "      <td>244</td>\n",
              "      <td>Samoa</td>\n",
              "      <td>2019</td>\n",
              "      <td>197000</td>\n",
              "      <td>0.197</td>\n",
              "      <td>102.1420</td>\n",
              "    </tr>\n",
              "    <tr>\n",
              "      <th>450304</th>\n",
              "      <td>5500</td>\n",
              "      <td>Océanie</td>\n",
              "      <td>5504</td>\n",
              "      <td>Polynésie</td>\n",
              "      <td>WSM</td>\n",
              "      <td>244</td>\n",
              "      <td>Samoa</td>\n",
              "      <td>2019</td>\n",
              "      <td>197000</td>\n",
              "      <td>0.197</td>\n",
              "      <td>101.2240</td>\n",
              "    </tr>\n",
              "  </tbody>\n",
              "</table>\n",
              "<p>450305 rows × 11 columns</p>\n",
              "</div>\n",
              "      <button class=\"colab-df-convert\" onclick=\"convertToInteractive('df-93ce2084-0529-45a3-9ced-8d6850b0008e')\"\n",
              "              title=\"Convert this dataframe to an interactive table.\"\n",
              "              style=\"display:none;\">\n",
              "        \n",
              "  <svg xmlns=\"http://www.w3.org/2000/svg\" height=\"24px\"viewBox=\"0 0 24 24\"\n",
              "       width=\"24px\">\n",
              "    <path d=\"M0 0h24v24H0V0z\" fill=\"none\"/>\n",
              "    <path d=\"M18.56 5.44l.94 2.06.94-2.06 2.06-.94-2.06-.94-.94-2.06-.94 2.06-2.06.94zm-11 1L8.5 8.5l.94-2.06 2.06-.94-2.06-.94L8.5 2.5l-.94 2.06-2.06.94zm10 10l.94 2.06.94-2.06 2.06-.94-2.06-.94-.94-2.06-.94 2.06-2.06.94z\"/><path d=\"M17.41 7.96l-1.37-1.37c-.4-.4-.92-.59-1.43-.59-.52 0-1.04.2-1.43.59L10.3 9.45l-7.72 7.72c-.78.78-.78 2.05 0 2.83L4 21.41c.39.39.9.59 1.41.59.51 0 1.02-.2 1.41-.59l7.78-7.78 2.81-2.81c.8-.78.8-2.07 0-2.86zM5.41 20L4 18.59l7.72-7.72 1.47 1.35L5.41 20z\"/>\n",
              "  </svg>\n",
              "      </button>\n",
              "      \n",
              "  <style>\n",
              "    .colab-df-container {\n",
              "      display:flex;\n",
              "      flex-wrap:wrap;\n",
              "      gap: 12px;\n",
              "    }\n",
              "\n",
              "    .colab-df-convert {\n",
              "      background-color: #E8F0FE;\n",
              "      border: none;\n",
              "      border-radius: 50%;\n",
              "      cursor: pointer;\n",
              "      display: none;\n",
              "      fill: #1967D2;\n",
              "      height: 32px;\n",
              "      padding: 0 0 0 0;\n",
              "      width: 32px;\n",
              "    }\n",
              "\n",
              "    .colab-df-convert:hover {\n",
              "      background-color: #E2EBFA;\n",
              "      box-shadow: 0px 1px 2px rgba(60, 64, 67, 0.3), 0px 1px 3px 1px rgba(60, 64, 67, 0.15);\n",
              "      fill: #174EA6;\n",
              "    }\n",
              "\n",
              "    [theme=dark] .colab-df-convert {\n",
              "      background-color: #3B4455;\n",
              "      fill: #D2E3FC;\n",
              "    }\n",
              "\n",
              "    [theme=dark] .colab-df-convert:hover {\n",
              "      background-color: #434B5C;\n",
              "      box-shadow: 0px 1px 3px 1px rgba(0, 0, 0, 0.15);\n",
              "      filter: drop-shadow(0px 1px 2px rgba(0, 0, 0, 0.3));\n",
              "      fill: #FFFFFF;\n",
              "    }\n",
              "  </style>\n",
              "\n",
              "      <script>\n",
              "        const buttonEl =\n",
              "          document.querySelector('#df-93ce2084-0529-45a3-9ced-8d6850b0008e button.colab-df-convert');\n",
              "        buttonEl.style.display =\n",
              "          google.colab.kernel.accessAllowed ? 'block' : 'none';\n",
              "\n",
              "        async function convertToInteractive(key) {\n",
              "          const element = document.querySelector('#df-93ce2084-0529-45a3-9ced-8d6850b0008e');\n",
              "          const dataTable =\n",
              "            await google.colab.kernel.invokeFunction('convertToInteractive',\n",
              "                                                     [key], {});\n",
              "          if (!dataTable) return;\n",
              "\n",
              "          const docLinkHtml = 'Like what you see? Visit the ' +\n",
              "            '<a target=\"_blank\" href=https://colab.research.google.com/notebooks/data_table.ipynb>data table notebook</a>'\n",
              "            + ' to learn more about interactive tables.';\n",
              "          element.innerHTML = '';\n",
              "          dataTable['output_type'] = 'display_data';\n",
              "          await google.colab.output.renderOutput(dataTable, element);\n",
              "          const docLink = document.createElement('div');\n",
              "          docLink.innerHTML = docLinkHtml;\n",
              "          element.appendChild(docLink);\n",
              "        }\n",
              "      </script>\n",
              "    </div>\n",
              "  </div>\n",
              "  "
            ]
          },
          "metadata": {},
          "execution_count": 18
        }
      ]
    },
    {
      "cell_type": "markdown",
      "source": [
        "#### test des NaN  "
      ],
      "metadata": {
        "id": "9tPbDBP4SfAN"
      }
    },
    {
      "cell_type": "code",
      "source": [
        "# DEBUG  recherche NaN ==> Ok \n",
        "# temp=geo\n",
        "# temp.isnull().sum(axis=0) # Total nombre de NaN par colonne\n",
        "# test=temp[temp.isnull().any(axis=1)] ; test #Afficher les lignes ayant au moins 1 NaN\n",
        "# len(test)\n",
        "# test.Zone.unique()"
      ],
      "metadata": {
        "id": "oc2VPmGrHgw7"
      },
      "execution_count": null,
      "outputs": []
    },
    {
      "cell_type": "markdown",
      "source": [
        "#### test Liste produits TO DEL"
      ],
      "metadata": {
        "id": "Cl82Nq8A0Yg8"
      }
    },
    {
      "cell_type": "code",
      "source": [
        "# GproduitRAW=pd.read_csv(DataPATH+'FAOSTAT_listeGroupeProduits.csv',sep=',',usecols = [i for i in range(5)])\n",
        "# # GproduitRAW\n",
        "# Produits=pd.read_csv(DataPATH+'FAOSTAT_ListeProduits.csv',sep=',',usecols = [i for i in range(3)])\n",
        "# # Produits\n",
        "\n",
        "# ListeProduits=pd.merge(GproduitRAW,Produits, how='left',on='Code Produit')\n",
        "# ListeProduits"
      ],
      "metadata": {
        "id": "NAd4-e_eAYlp"
      },
      "execution_count": null,
      "outputs": []
    },
    {
      "cell_type": "code",
      "source": [
        "# ListeProduits.info()\n",
        "# ListeProduits.isnull().sum(axis=0)"
      ],
      "metadata": {
        "id": "946ARLIzHOKo"
      },
      "execution_count": null,
      "outputs": []
    },
    {
      "cell_type": "code",
      "source": [
        "# ListeProduits[ListeProduits['Produit_y'].isnull()] "
      ],
      "metadata": {
        "id": "8YrSt8ZbDApG"
      },
      "execution_count": null,
      "outputs": []
    },
    {
      "cell_type": "code",
      "source": [
        "# ListeProduits['Groupe de produits'].unique() "
      ],
      "metadata": {
        "id": "an0QfefTIN4o"
      },
      "execution_count": null,
      "outputs": []
    },
    {
      "cell_type": "code",
      "source": [
        "# ListeProduits[(ListeProduits['Code Produit']==1743)] "
      ],
      "metadata": {
        "id": "v9Lmr5FYHqCB"
      },
      "execution_count": null,
      "outputs": []
    },
    {
      "cell_type": "code",
      "source": [
        "# encoding='ANSI'\n",
        "\n",
        "# pd.read_csv(DataPATH+'BilansAlimentaires_F_Toutes_les_Données_(Normalisé).zip',sep=',',encoding='utf-8')\n",
        "\n",
        "#Doc python Encoding :  https://docs.python.org/3/library/codecs.html#standard-encodings"
      ],
      "metadata": {
        "id": "xtqzIU1ohTwJ"
      },
      "execution_count": null,
      "outputs": []
    },
    {
      "cell_type": "markdown",
      "source": [
        "### Aide Alimentaire"
      ],
      "metadata": {
        "id": "jlVEN3530qy_"
      }
    },
    {
      "cell_type": "code",
      "source": [
        "# Aide Alimentaire (WFP) Expédition RAW dataSet FAO  source : https://www.fao.org/faostat/fr/#data/FA\n",
        "AideAlimRAW=pd.read_csv(DataPATH+'FAOSTAT_aideAlimentaire.csv',sep=',',usecols = [i for i in range(2,12)])\n",
        "\n",
        "# AideAlimRAW\n",
        "# AideAlimRAW.info()\n",
        "#AideAlimRAW.columns  #Index(['Code Pays bénéficiaire (FAO)', 'Pays bénéficiaire', 'Code Élément','Élément', 'Code Produit', 'Produit', 'Code année', 'Année', 'Unité', 'Valeur'], dtype='object')\n",
        "\n",
        "AideAlimRAW.drop(columns=['Code année','Code Élément','Élément','Unité'],inplace=True) #Suppresion colonnes inutiles\n",
        "AideAlimRAW.rename(columns={'Code Pays bénéficiaire (FAO)' : 'CodePays', 'Pays bénéficiaire': 'PaysBénéficiaire', 'Code Produit':'CodeProduitAA', 'Valeur':'tonnes'},inplace=True)\n",
        "AideAlim=AideAlimRAW\n",
        "\n",
        "AideAlim\n",
        "# Attention CodeProduitAA  pas compatible avec CodeProduit (utilisé dans les autres fichiers de la FAO))"
      ],
      "metadata": {
        "colab": {
          "base_uri": "https://localhost:8080/",
          "height": 423
        },
        "id": "6AWIdyR40zzX",
        "outputId": "965ca176-a889-4b84-cea1-d017596607df"
      },
      "execution_count": 19,
      "outputs": [
        {
          "output_type": "execute_result",
          "data": {
            "text/plain": [
              "       CodePays PaysBénéficiaire  CodeProduitAA              Produit  Année  \\\n",
              "0             2      Afghanistan          11704  Autres non-céréales   2000   \n",
              "1             2      Afghanistan          11704  Autres non-céréales   2002   \n",
              "2             2      Afghanistan          11704  Autres non-céréales   2003   \n",
              "3             2      Afghanistan          11704  Autres non-céréales   2004   \n",
              "4             2      Afghanistan          11704  Autres non-céréales   2005   \n",
              "...         ...              ...            ...                  ...    ...   \n",
              "10418       181         Zimbabwe          11890         Sucre, total   2002   \n",
              "10419       181         Zimbabwe          11890         Sucre, total   2003   \n",
              "10420       181         Zimbabwe          11890         Sucre, total   2008   \n",
              "10421       181         Zimbabwe          11890         Sucre, total   2009   \n",
              "10422       181         Zimbabwe          11765         Viande Total   2008   \n",
              "\n",
              "       tonnes  \n",
              "0          55  \n",
              "1        2313  \n",
              "2        9821  \n",
              "3        7332  \n",
              "4       16985  \n",
              "...       ...  \n",
              "10418     136  \n",
              "10419     216  \n",
              "10420       5  \n",
              "10421      19  \n",
              "10422     252  \n",
              "\n",
              "[10423 rows x 6 columns]"
            ],
            "text/html": [
              "\n",
              "  <div id=\"df-054ef9ac-3fb2-4493-b66e-8fad417f5c34\">\n",
              "    <div class=\"colab-df-container\">\n",
              "      <div>\n",
              "<style scoped>\n",
              "    .dataframe tbody tr th:only-of-type {\n",
              "        vertical-align: middle;\n",
              "    }\n",
              "\n",
              "    .dataframe tbody tr th {\n",
              "        vertical-align: top;\n",
              "    }\n",
              "\n",
              "    .dataframe thead th {\n",
              "        text-align: right;\n",
              "    }\n",
              "</style>\n",
              "<table border=\"1\" class=\"dataframe\">\n",
              "  <thead>\n",
              "    <tr style=\"text-align: right;\">\n",
              "      <th></th>\n",
              "      <th>CodePays</th>\n",
              "      <th>PaysBénéficiaire</th>\n",
              "      <th>CodeProduitAA</th>\n",
              "      <th>Produit</th>\n",
              "      <th>Année</th>\n",
              "      <th>tonnes</th>\n",
              "    </tr>\n",
              "  </thead>\n",
              "  <tbody>\n",
              "    <tr>\n",
              "      <th>0</th>\n",
              "      <td>2</td>\n",
              "      <td>Afghanistan</td>\n",
              "      <td>11704</td>\n",
              "      <td>Autres non-céréales</td>\n",
              "      <td>2000</td>\n",
              "      <td>55</td>\n",
              "    </tr>\n",
              "    <tr>\n",
              "      <th>1</th>\n",
              "      <td>2</td>\n",
              "      <td>Afghanistan</td>\n",
              "      <td>11704</td>\n",
              "      <td>Autres non-céréales</td>\n",
              "      <td>2002</td>\n",
              "      <td>2313</td>\n",
              "    </tr>\n",
              "    <tr>\n",
              "      <th>2</th>\n",
              "      <td>2</td>\n",
              "      <td>Afghanistan</td>\n",
              "      <td>11704</td>\n",
              "      <td>Autres non-céréales</td>\n",
              "      <td>2003</td>\n",
              "      <td>9821</td>\n",
              "    </tr>\n",
              "    <tr>\n",
              "      <th>3</th>\n",
              "      <td>2</td>\n",
              "      <td>Afghanistan</td>\n",
              "      <td>11704</td>\n",
              "      <td>Autres non-céréales</td>\n",
              "      <td>2004</td>\n",
              "      <td>7332</td>\n",
              "    </tr>\n",
              "    <tr>\n",
              "      <th>4</th>\n",
              "      <td>2</td>\n",
              "      <td>Afghanistan</td>\n",
              "      <td>11704</td>\n",
              "      <td>Autres non-céréales</td>\n",
              "      <td>2005</td>\n",
              "      <td>16985</td>\n",
              "    </tr>\n",
              "    <tr>\n",
              "      <th>...</th>\n",
              "      <td>...</td>\n",
              "      <td>...</td>\n",
              "      <td>...</td>\n",
              "      <td>...</td>\n",
              "      <td>...</td>\n",
              "      <td>...</td>\n",
              "    </tr>\n",
              "    <tr>\n",
              "      <th>10418</th>\n",
              "      <td>181</td>\n",
              "      <td>Zimbabwe</td>\n",
              "      <td>11890</td>\n",
              "      <td>Sucre, total</td>\n",
              "      <td>2002</td>\n",
              "      <td>136</td>\n",
              "    </tr>\n",
              "    <tr>\n",
              "      <th>10419</th>\n",
              "      <td>181</td>\n",
              "      <td>Zimbabwe</td>\n",
              "      <td>11890</td>\n",
              "      <td>Sucre, total</td>\n",
              "      <td>2003</td>\n",
              "      <td>216</td>\n",
              "    </tr>\n",
              "    <tr>\n",
              "      <th>10420</th>\n",
              "      <td>181</td>\n",
              "      <td>Zimbabwe</td>\n",
              "      <td>11890</td>\n",
              "      <td>Sucre, total</td>\n",
              "      <td>2008</td>\n",
              "      <td>5</td>\n",
              "    </tr>\n",
              "    <tr>\n",
              "      <th>10421</th>\n",
              "      <td>181</td>\n",
              "      <td>Zimbabwe</td>\n",
              "      <td>11890</td>\n",
              "      <td>Sucre, total</td>\n",
              "      <td>2009</td>\n",
              "      <td>19</td>\n",
              "    </tr>\n",
              "    <tr>\n",
              "      <th>10422</th>\n",
              "      <td>181</td>\n",
              "      <td>Zimbabwe</td>\n",
              "      <td>11765</td>\n",
              "      <td>Viande Total</td>\n",
              "      <td>2008</td>\n",
              "      <td>252</td>\n",
              "    </tr>\n",
              "  </tbody>\n",
              "</table>\n",
              "<p>10423 rows × 6 columns</p>\n",
              "</div>\n",
              "      <button class=\"colab-df-convert\" onclick=\"convertToInteractive('df-054ef9ac-3fb2-4493-b66e-8fad417f5c34')\"\n",
              "              title=\"Convert this dataframe to an interactive table.\"\n",
              "              style=\"display:none;\">\n",
              "        \n",
              "  <svg xmlns=\"http://www.w3.org/2000/svg\" height=\"24px\"viewBox=\"0 0 24 24\"\n",
              "       width=\"24px\">\n",
              "    <path d=\"M0 0h24v24H0V0z\" fill=\"none\"/>\n",
              "    <path d=\"M18.56 5.44l.94 2.06.94-2.06 2.06-.94-2.06-.94-.94-2.06-.94 2.06-2.06.94zm-11 1L8.5 8.5l.94-2.06 2.06-.94-2.06-.94L8.5 2.5l-.94 2.06-2.06.94zm10 10l.94 2.06.94-2.06 2.06-.94-2.06-.94-.94-2.06-.94 2.06-2.06.94z\"/><path d=\"M17.41 7.96l-1.37-1.37c-.4-.4-.92-.59-1.43-.59-.52 0-1.04.2-1.43.59L10.3 9.45l-7.72 7.72c-.78.78-.78 2.05 0 2.83L4 21.41c.39.39.9.59 1.41.59.51 0 1.02-.2 1.41-.59l7.78-7.78 2.81-2.81c.8-.78.8-2.07 0-2.86zM5.41 20L4 18.59l7.72-7.72 1.47 1.35L5.41 20z\"/>\n",
              "  </svg>\n",
              "      </button>\n",
              "      \n",
              "  <style>\n",
              "    .colab-df-container {\n",
              "      display:flex;\n",
              "      flex-wrap:wrap;\n",
              "      gap: 12px;\n",
              "    }\n",
              "\n",
              "    .colab-df-convert {\n",
              "      background-color: #E8F0FE;\n",
              "      border: none;\n",
              "      border-radius: 50%;\n",
              "      cursor: pointer;\n",
              "      display: none;\n",
              "      fill: #1967D2;\n",
              "      height: 32px;\n",
              "      padding: 0 0 0 0;\n",
              "      width: 32px;\n",
              "    }\n",
              "\n",
              "    .colab-df-convert:hover {\n",
              "      background-color: #E2EBFA;\n",
              "      box-shadow: 0px 1px 2px rgba(60, 64, 67, 0.3), 0px 1px 3px 1px rgba(60, 64, 67, 0.15);\n",
              "      fill: #174EA6;\n",
              "    }\n",
              "\n",
              "    [theme=dark] .colab-df-convert {\n",
              "      background-color: #3B4455;\n",
              "      fill: #D2E3FC;\n",
              "    }\n",
              "\n",
              "    [theme=dark] .colab-df-convert:hover {\n",
              "      background-color: #434B5C;\n",
              "      box-shadow: 0px 1px 3px 1px rgba(0, 0, 0, 0.15);\n",
              "      filter: drop-shadow(0px 1px 2px rgba(0, 0, 0, 0.3));\n",
              "      fill: #FFFFFF;\n",
              "    }\n",
              "  </style>\n",
              "\n",
              "      <script>\n",
              "        const buttonEl =\n",
              "          document.querySelector('#df-054ef9ac-3fb2-4493-b66e-8fad417f5c34 button.colab-df-convert');\n",
              "        buttonEl.style.display =\n",
              "          google.colab.kernel.accessAllowed ? 'block' : 'none';\n",
              "\n",
              "        async function convertToInteractive(key) {\n",
              "          const element = document.querySelector('#df-054ef9ac-3fb2-4493-b66e-8fad417f5c34');\n",
              "          const dataTable =\n",
              "            await google.colab.kernel.invokeFunction('convertToInteractive',\n",
              "                                                     [key], {});\n",
              "          if (!dataTable) return;\n",
              "\n",
              "          const docLinkHtml = 'Like what you see? Visit the ' +\n",
              "            '<a target=\"_blank\" href=https://colab.research.google.com/notebooks/data_table.ipynb>data table notebook</a>'\n",
              "            + ' to learn more about interactive tables.';\n",
              "          element.innerHTML = '';\n",
              "          dataTable['output_type'] = 'display_data';\n",
              "          await google.colab.output.renderOutput(dataTable, element);\n",
              "          const docLink = document.createElement('div');\n",
              "          docLink.innerHTML = docLinkHtml;\n",
              "          element.appendChild(docLink);\n",
              "        }\n",
              "      </script>\n",
              "    </div>\n",
              "  </div>\n",
              "  "
            ]
          },
          "metadata": {},
          "execution_count": 19
        }
      ]
    },
    {
      "cell_type": "code",
      "source": [
        "# DEBUG  recherche NaN  => ok\n",
        "# temp=AideAlim\n",
        "# temp.isnull().sum(axis=0) # Total nombre de NaN par colonne\n",
        "# test=temp[temp.isnull().any(axis=1)] ; test #Afficher les lignes ayant au moins 1 NaN\n",
        "# len(test)\n",
        "# test.Zone.unique()"
      ],
      "metadata": {
        "id": "qWz-e66KKn57"
      },
      "execution_count": null,
      "outputs": []
    },
    {
      "cell_type": "code",
      "source": [
        "# Jointure pour data visualisation sur map \n",
        "# GeoTable=tableZ.merge(PAYS, left_on='CodeZone',right_on='Code_Pays')\n",
        "# GeoTable.drop(['CodeContinent','Code_ZoneContinent','Code_Pays','Pays'], axis=1)\n",
        "\n",
        "AideAlimGeo=AideAlim.merge(PAYS, left_on='CodePays',right_on='Code_Pays').drop(['CodeContinent','Code_ZoneContinent','Code_Pays','Pays'], axis=1) #.fillna(0)\n",
        "AideAlimGeo\n",
        "\n"
      ],
      "metadata": {
        "colab": {
          "base_uri": "https://localhost:8080/",
          "height": 423
        },
        "id": "E4PedavT5xBG",
        "outputId": "82c2563c-6de6-491f-ea7e-355bc12cb2cb"
      },
      "execution_count": null,
      "outputs": [
        {
          "output_type": "execute_result",
          "data": {
            "text/plain": [
              "      CodePays PaysBénéficiaire  CodeProduitAA              Produit  Année  \\\n",
              "0            2      Afghanistan          11704  Autres non-céréales   2000   \n",
              "1            2      Afghanistan          11704  Autres non-céréales   2002   \n",
              "2            2      Afghanistan          11704  Autres non-céréales   2003   \n",
              "3            2      Afghanistan          11704  Autres non-céréales   2004   \n",
              "4            2      Afghanistan          11704  Autres non-céréales   2005   \n",
              "...        ...              ...            ...                  ...    ...   \n",
              "9789       181         Zimbabwe          11890         Sucre, total   2002   \n",
              "9790       181         Zimbabwe          11890         Sucre, total   2003   \n",
              "9791       181         Zimbabwe          11890         Sucre, total   2008   \n",
              "9792       181         Zimbabwe          11890         Sucre, total   2009   \n",
              "9793       181         Zimbabwe          11765         Viande Total   2008   \n",
              "\n",
              "      tonnes continent      ZoneContinent AlphaISO3  \n",
              "0         55      Asie   Asie méridionale       AFG  \n",
              "1       2313      Asie   Asie méridionale       AFG  \n",
              "2       9821      Asie   Asie méridionale       AFG  \n",
              "3       7332      Asie   Asie méridionale       AFG  \n",
              "4      16985      Asie   Asie méridionale       AFG  \n",
              "...      ...       ...                ...       ...  \n",
              "9789     136   Afrique  Afrique orientale       ZWE  \n",
              "9790     216   Afrique  Afrique orientale       ZWE  \n",
              "9791       5   Afrique  Afrique orientale       ZWE  \n",
              "9792      19   Afrique  Afrique orientale       ZWE  \n",
              "9793     252   Afrique  Afrique orientale       ZWE  \n",
              "\n",
              "[9794 rows x 9 columns]"
            ],
            "text/html": [
              "\n",
              "  <div id=\"df-b7fc36cf-23d4-41f6-a1a9-9f9dc0f6ca93\">\n",
              "    <div class=\"colab-df-container\">\n",
              "      <div>\n",
              "<style scoped>\n",
              "    .dataframe tbody tr th:only-of-type {\n",
              "        vertical-align: middle;\n",
              "    }\n",
              "\n",
              "    .dataframe tbody tr th {\n",
              "        vertical-align: top;\n",
              "    }\n",
              "\n",
              "    .dataframe thead th {\n",
              "        text-align: right;\n",
              "    }\n",
              "</style>\n",
              "<table border=\"1\" class=\"dataframe\">\n",
              "  <thead>\n",
              "    <tr style=\"text-align: right;\">\n",
              "      <th></th>\n",
              "      <th>CodePays</th>\n",
              "      <th>PaysBénéficiaire</th>\n",
              "      <th>CodeProduitAA</th>\n",
              "      <th>Produit</th>\n",
              "      <th>Année</th>\n",
              "      <th>tonnes</th>\n",
              "      <th>continent</th>\n",
              "      <th>ZoneContinent</th>\n",
              "      <th>AlphaISO3</th>\n",
              "    </tr>\n",
              "  </thead>\n",
              "  <tbody>\n",
              "    <tr>\n",
              "      <th>0</th>\n",
              "      <td>2</td>\n",
              "      <td>Afghanistan</td>\n",
              "      <td>11704</td>\n",
              "      <td>Autres non-céréales</td>\n",
              "      <td>2000</td>\n",
              "      <td>55</td>\n",
              "      <td>Asie</td>\n",
              "      <td>Asie méridionale</td>\n",
              "      <td>AFG</td>\n",
              "    </tr>\n",
              "    <tr>\n",
              "      <th>1</th>\n",
              "      <td>2</td>\n",
              "      <td>Afghanistan</td>\n",
              "      <td>11704</td>\n",
              "      <td>Autres non-céréales</td>\n",
              "      <td>2002</td>\n",
              "      <td>2313</td>\n",
              "      <td>Asie</td>\n",
              "      <td>Asie méridionale</td>\n",
              "      <td>AFG</td>\n",
              "    </tr>\n",
              "    <tr>\n",
              "      <th>2</th>\n",
              "      <td>2</td>\n",
              "      <td>Afghanistan</td>\n",
              "      <td>11704</td>\n",
              "      <td>Autres non-céréales</td>\n",
              "      <td>2003</td>\n",
              "      <td>9821</td>\n",
              "      <td>Asie</td>\n",
              "      <td>Asie méridionale</td>\n",
              "      <td>AFG</td>\n",
              "    </tr>\n",
              "    <tr>\n",
              "      <th>3</th>\n",
              "      <td>2</td>\n",
              "      <td>Afghanistan</td>\n",
              "      <td>11704</td>\n",
              "      <td>Autres non-céréales</td>\n",
              "      <td>2004</td>\n",
              "      <td>7332</td>\n",
              "      <td>Asie</td>\n",
              "      <td>Asie méridionale</td>\n",
              "      <td>AFG</td>\n",
              "    </tr>\n",
              "    <tr>\n",
              "      <th>4</th>\n",
              "      <td>2</td>\n",
              "      <td>Afghanistan</td>\n",
              "      <td>11704</td>\n",
              "      <td>Autres non-céréales</td>\n",
              "      <td>2005</td>\n",
              "      <td>16985</td>\n",
              "      <td>Asie</td>\n",
              "      <td>Asie méridionale</td>\n",
              "      <td>AFG</td>\n",
              "    </tr>\n",
              "    <tr>\n",
              "      <th>...</th>\n",
              "      <td>...</td>\n",
              "      <td>...</td>\n",
              "      <td>...</td>\n",
              "      <td>...</td>\n",
              "      <td>...</td>\n",
              "      <td>...</td>\n",
              "      <td>...</td>\n",
              "      <td>...</td>\n",
              "      <td>...</td>\n",
              "    </tr>\n",
              "    <tr>\n",
              "      <th>9789</th>\n",
              "      <td>181</td>\n",
              "      <td>Zimbabwe</td>\n",
              "      <td>11890</td>\n",
              "      <td>Sucre, total</td>\n",
              "      <td>2002</td>\n",
              "      <td>136</td>\n",
              "      <td>Afrique</td>\n",
              "      <td>Afrique orientale</td>\n",
              "      <td>ZWE</td>\n",
              "    </tr>\n",
              "    <tr>\n",
              "      <th>9790</th>\n",
              "      <td>181</td>\n",
              "      <td>Zimbabwe</td>\n",
              "      <td>11890</td>\n",
              "      <td>Sucre, total</td>\n",
              "      <td>2003</td>\n",
              "      <td>216</td>\n",
              "      <td>Afrique</td>\n",
              "      <td>Afrique orientale</td>\n",
              "      <td>ZWE</td>\n",
              "    </tr>\n",
              "    <tr>\n",
              "      <th>9791</th>\n",
              "      <td>181</td>\n",
              "      <td>Zimbabwe</td>\n",
              "      <td>11890</td>\n",
              "      <td>Sucre, total</td>\n",
              "      <td>2008</td>\n",
              "      <td>5</td>\n",
              "      <td>Afrique</td>\n",
              "      <td>Afrique orientale</td>\n",
              "      <td>ZWE</td>\n",
              "    </tr>\n",
              "    <tr>\n",
              "      <th>9792</th>\n",
              "      <td>181</td>\n",
              "      <td>Zimbabwe</td>\n",
              "      <td>11890</td>\n",
              "      <td>Sucre, total</td>\n",
              "      <td>2009</td>\n",
              "      <td>19</td>\n",
              "      <td>Afrique</td>\n",
              "      <td>Afrique orientale</td>\n",
              "      <td>ZWE</td>\n",
              "    </tr>\n",
              "    <tr>\n",
              "      <th>9793</th>\n",
              "      <td>181</td>\n",
              "      <td>Zimbabwe</td>\n",
              "      <td>11765</td>\n",
              "      <td>Viande Total</td>\n",
              "      <td>2008</td>\n",
              "      <td>252</td>\n",
              "      <td>Afrique</td>\n",
              "      <td>Afrique orientale</td>\n",
              "      <td>ZWE</td>\n",
              "    </tr>\n",
              "  </tbody>\n",
              "</table>\n",
              "<p>9794 rows × 9 columns</p>\n",
              "</div>\n",
              "      <button class=\"colab-df-convert\" onclick=\"convertToInteractive('df-b7fc36cf-23d4-41f6-a1a9-9f9dc0f6ca93')\"\n",
              "              title=\"Convert this dataframe to an interactive table.\"\n",
              "              style=\"display:none;\">\n",
              "        \n",
              "  <svg xmlns=\"http://www.w3.org/2000/svg\" height=\"24px\"viewBox=\"0 0 24 24\"\n",
              "       width=\"24px\">\n",
              "    <path d=\"M0 0h24v24H0V0z\" fill=\"none\"/>\n",
              "    <path d=\"M18.56 5.44l.94 2.06.94-2.06 2.06-.94-2.06-.94-.94-2.06-.94 2.06-2.06.94zm-11 1L8.5 8.5l.94-2.06 2.06-.94-2.06-.94L8.5 2.5l-.94 2.06-2.06.94zm10 10l.94 2.06.94-2.06 2.06-.94-2.06-.94-.94-2.06-.94 2.06-2.06.94z\"/><path d=\"M17.41 7.96l-1.37-1.37c-.4-.4-.92-.59-1.43-.59-.52 0-1.04.2-1.43.59L10.3 9.45l-7.72 7.72c-.78.78-.78 2.05 0 2.83L4 21.41c.39.39.9.59 1.41.59.51 0 1.02-.2 1.41-.59l7.78-7.78 2.81-2.81c.8-.78.8-2.07 0-2.86zM5.41 20L4 18.59l7.72-7.72 1.47 1.35L5.41 20z\"/>\n",
              "  </svg>\n",
              "      </button>\n",
              "      \n",
              "  <style>\n",
              "    .colab-df-container {\n",
              "      display:flex;\n",
              "      flex-wrap:wrap;\n",
              "      gap: 12px;\n",
              "    }\n",
              "\n",
              "    .colab-df-convert {\n",
              "      background-color: #E8F0FE;\n",
              "      border: none;\n",
              "      border-radius: 50%;\n",
              "      cursor: pointer;\n",
              "      display: none;\n",
              "      fill: #1967D2;\n",
              "      height: 32px;\n",
              "      padding: 0 0 0 0;\n",
              "      width: 32px;\n",
              "    }\n",
              "\n",
              "    .colab-df-convert:hover {\n",
              "      background-color: #E2EBFA;\n",
              "      box-shadow: 0px 1px 2px rgba(60, 64, 67, 0.3), 0px 1px 3px 1px rgba(60, 64, 67, 0.15);\n",
              "      fill: #174EA6;\n",
              "    }\n",
              "\n",
              "    [theme=dark] .colab-df-convert {\n",
              "      background-color: #3B4455;\n",
              "      fill: #D2E3FC;\n",
              "    }\n",
              "\n",
              "    [theme=dark] .colab-df-convert:hover {\n",
              "      background-color: #434B5C;\n",
              "      box-shadow: 0px 1px 3px 1px rgba(0, 0, 0, 0.15);\n",
              "      filter: drop-shadow(0px 1px 2px rgba(0, 0, 0, 0.3));\n",
              "      fill: #FFFFFF;\n",
              "    }\n",
              "  </style>\n",
              "\n",
              "      <script>\n",
              "        const buttonEl =\n",
              "          document.querySelector('#df-b7fc36cf-23d4-41f6-a1a9-9f9dc0f6ca93 button.colab-df-convert');\n",
              "        buttonEl.style.display =\n",
              "          google.colab.kernel.accessAllowed ? 'block' : 'none';\n",
              "\n",
              "        async function convertToInteractive(key) {\n",
              "          const element = document.querySelector('#df-b7fc36cf-23d4-41f6-a1a9-9f9dc0f6ca93');\n",
              "          const dataTable =\n",
              "            await google.colab.kernel.invokeFunction('convertToInteractive',\n",
              "                                                     [key], {});\n",
              "          if (!dataTable) return;\n",
              "\n",
              "          const docLinkHtml = 'Like what you see? Visit the ' +\n",
              "            '<a target=\"_blank\" href=https://colab.research.google.com/notebooks/data_table.ipynb>data table notebook</a>'\n",
              "            + ' to learn more about interactive tables.';\n",
              "          element.innerHTML = '';\n",
              "          dataTable['output_type'] = 'display_data';\n",
              "          await google.colab.output.renderOutput(dataTable, element);\n",
              "          const docLink = document.createElement('div');\n",
              "          docLink.innerHTML = docLinkHtml;\n",
              "          element.appendChild(docLink);\n",
              "        }\n",
              "      </script>\n",
              "    </div>\n",
              "  </div>\n",
              "  "
            ]
          },
          "metadata": {},
          "execution_count": 24
        }
      ]
    },
    {
      "cell_type": "markdown",
      "source": [
        " #### test NaN"
      ],
      "metadata": {
        "id": "s0wmZQKTSp_M"
      }
    },
    {
      "cell_type": "code",
      "source": [
        "#DEBUG recherche des nan  => ok \n",
        "# AideAlimGeo.isnull().sum(axis=0)\n",
        "# AideAlimGeo.isnull().sum(axis=1).unique()\n",
        "# AideAlimGeo.Année.unique()"
      ],
      "metadata": {
        "id": "FTPSSddkSpBV"
      },
      "execution_count": 20,
      "outputs": []
    },
    {
      "cell_type": "markdown",
      "source": [
        "### Bilan Alimentaire "
      ],
      "metadata": {
        "id": "roZoiAXvyk04"
      }
    },
    {
      "cell_type": "code",
      "source": [
        "# bilan=pd.read_csv('https://github.com/vincent-arese/OC-P04VA/blob/main/FAOdata/FAOBilanAlimentaireBILAN.zip?raw=true',sep=',')\n",
        "# dispo=pd.read_csv('https://github.com/vincent-arese/OC-P04VA/blob/main/FAOdata/FAOBilanAlimentaireDISPO.zip?raw=true',sep=',')\n",
        "\n",
        "# code errreur !!! \n",
        "\n",
        "# FAOBilanAlimentaireDISPO.zip"
      ],
      "metadata": {
        "id": "6TN7fIAGyq5K"
      },
      "execution_count": 21,
      "outputs": []
    },
    {
      "cell_type": "code",
      "source": [
        "# Les fichiers ont été normalisé et reduit aux clef  pour optimiser le chargement \n",
        "\n",
        "import numpy as np\n",
        "import pandas as pd\n",
        "DataPATH='https://raw.githubusercontent.com/vincent-arese/OC-P04VA/main/FAOdata/'\n",
        "\n",
        "\n",
        "# Chargment des fichiers \n",
        "bilan=pd.read_csv(DataPATH+'FAOBilanAlimentaireBilanUTF8.zip',sep=';',usecols = [i for i in range(5)])\n",
        "dispo=pd.read_csv(DataPATH+'FAOBilanAlimentaireDispoUTF8.zip',sep=';',usecols = [i for i in range(5)])\n",
        "CodeElement=pd.read_csv(DataPATH+'FAOBilanAlimentaireCodeUTF8.csv',sep=';')\n",
        "\n",
        "\n"
      ],
      "metadata": {
        "id": "UbjTwqi3zUx1"
      },
      "execution_count": 1,
      "outputs": []
    },
    {
      "cell_type": "code",
      "source": [
        "dispo.info()\n",
        "len(dispo)"
      ],
      "metadata": {
        "colab": {
          "base_uri": "https://localhost:8080/"
        },
        "id": "EWiadstO3TVV",
        "outputId": "19d90f5f-d19a-4c7f-a967-4703fe564ce5"
      },
      "execution_count": 2,
      "outputs": [
        {
          "output_type": "stream",
          "name": "stdout",
          "text": [
            "<class 'pandas.core.frame.DataFrame'>\n",
            "RangeIndex: 859628 entries, 0 to 859627\n",
            "Data columns (total 5 columns):\n",
            " #   Column       Non-Null Count   Dtype  \n",
            "---  ------       --------------   -----  \n",
            " 0   CodeZone     859628 non-null  int64  \n",
            " 1   CodeProduit  859628 non-null  int64  \n",
            " 2   CodeElément  859628 non-null  int64  \n",
            " 3   Année        859628 non-null  int64  \n",
            " 4   Valeur       859628 non-null  float64\n",
            "dtypes: float64(1), int64(4)\n",
            "memory usage: 32.8 MB\n"
          ]
        },
        {
          "output_type": "execute_result",
          "data": {
            "text/plain": [
              "859628"
            ]
          },
          "metadata": {},
          "execution_count": 2
        }
      ]
    },
    {
      "cell_type": "code",
      "source": [
        "ListeProduitsFAO=pd.read_excel('https://github.com/vincent-arese/OC-P04VA/blob/main/FAOdata/FAOProduits.xlsx?raw=true', sheet_name='listeProduitMini',usecols = [i for i in range(5)]) # Codes produits FAO\n",
        "# ListeProduitsFAO.head(1)\n"
      ],
      "metadata": {
        "id": "aJfoeRio3q0M"
      },
      "execution_count": 3,
      "outputs": []
    },
    {
      "cell_type": "code",
      "source": [
        "# Merge du Dataframes bilan , dispo , code  Normalisés\n",
        "\n",
        "# bilan.columns\n",
        "\"\"\"Index(['CodeZone', 'CodeProduit', 'CodeElément', 'Année', 'Valeur'], dtype='object')\"\"\"\n",
        "\n",
        "# dispo.columns\n",
        "\"\"\"Index(['CodeZone', 'CodeProduit', 'CodeElément', 'Année', 'Valeur'], dtype='object')\"\"\"\n",
        "\n",
        "# ListeProduitsFAO.columns\n",
        "\"\"\"Index(['Origine', 'CodeProduit', 'Produit', 'Coef', 'Description'], dtype='object')\"\"\"\n",
        "\n",
        "# CodeElement.columns\n",
        "\"Index(['CodeElément', 'Elément', 'Unité'], dtype='object')\"\n",
        "\n",
        "# geo.columns\n",
        "\"\"\"Index(['CodeContinent', 'Continent', 'Code_ZoneContinent', 'ZoneContinent',  'AlphaISO3', 'CodeZone', 'Zone', 'Année', 'Population', 'PopulationM','USDparHab'], dtype='object')\"\"\"\n",
        "\n",
        "\n",
        "temp=pd.concat([bilan,dispo])\n",
        "\n"
      ],
      "metadata": {
        "id": "vRwQnBF4-dTe",
        "colab": {
          "base_uri": "https://localhost:8080/",
          "height": 208
        },
        "outputId": "fcbd559e-f4af-4960-9b1b-36f8de8e7dae"
      },
      "execution_count": 4,
      "outputs": [
        {
          "output_type": "error",
          "ename": "NameError",
          "evalue": "ignored",
          "traceback": [
            "\u001b[0;31m---------------------------------------------------------------------------\u001b[0m",
            "\u001b[0;31mNameError\u001b[0m                                 Traceback (most recent call last)",
            "\u001b[0;32m<ipython-input-4-3e57acd3c5d6>\u001b[0m in \u001b[0;36m<module>\u001b[0;34m()\u001b[0m\n\u001b[1;32m     19\u001b[0m \u001b[0mtemp\u001b[0m\u001b[0;34m=\u001b[0m\u001b[0mpd\u001b[0m\u001b[0;34m.\u001b[0m\u001b[0mconcat\u001b[0m\u001b[0;34m(\u001b[0m\u001b[0;34m[\u001b[0m\u001b[0mbilan\u001b[0m\u001b[0;34m,\u001b[0m\u001b[0mdispo\u001b[0m\u001b[0;34m]\u001b[0m\u001b[0;34m)\u001b[0m\u001b[0;34m\u001b[0m\u001b[0;34m\u001b[0m\u001b[0m\n\u001b[1;32m     20\u001b[0m \u001b[0;34m\u001b[0m\u001b[0m\n\u001b[0;32m---> 21\u001b[0;31m \u001b[0mtemp2\u001b[0m\u001b[0;34m=\u001b[0m\u001b[0mtemp\u001b[0m\u001b[0;34m.\u001b[0m\u001b[0mmerge\u001b[0m\u001b[0;34m(\u001b[0m\u001b[0mCodeElement\u001b[0m\u001b[0;34m,\u001b[0m\u001b[0mhow\u001b[0m\u001b[0;34m=\u001b[0m\u001b[0;34m'left'\u001b[0m\u001b[0;34m,\u001b[0m\u001b[0mon\u001b[0m\u001b[0;34m=\u001b[0m\u001b[0;34m'CodeElément'\u001b[0m\u001b[0;34m)\u001b[0m\u001b[0;34m.\u001b[0m\u001b[0mmerge\u001b[0m\u001b[0;34m(\u001b[0m\u001b[0mgeo\u001b[0m\u001b[0;34m,\u001b[0m\u001b[0mhow\u001b[0m\u001b[0;34m=\u001b[0m\u001b[0;34m'left'\u001b[0m\u001b[0;34m,\u001b[0m\u001b[0mon\u001b[0m\u001b[0;34m=\u001b[0m\u001b[0;34m'CodeZone'\u001b[0m\u001b[0;34m)\u001b[0m\u001b[0;34m\u001b[0m\u001b[0;34m\u001b[0m\u001b[0m\n\u001b[0m",
            "\u001b[0;31mNameError\u001b[0m: name 'geo' is not defined"
          ]
        }
      ]
    },
    {
      "cell_type": "code",
      "source": [
        "temp2=temp.merge(CodeElement,how='left',on='CodeElément').merge(geo,how='left',on='CodeZone')"
      ],
      "metadata": {
        "id": "S0Kpsr9jiNVp"
      },
      "execution_count": null,
      "outputs": []
    },
    {
      "cell_type": "code",
      "source": [
        "# DEBUG  recherche NaN  \n",
        "# temp=test\n",
        "# temp.isnull().sum(axis=0) # Total nombre de NaN par colonne\n",
        "# test=temp[temp.isnull().any(axis=1)] ; test #Afficher les lignes ayant au moins 1 NaN\n",
        "# len(test)\n",
        "# test.Zone.unique()"
      ],
      "metadata": {
        "id": "I4iE1wUC7K9O"
      },
      "execution_count": null,
      "outputs": []
    },
    {
      "cell_type": "markdown",
      "source": [
        "### Sécurité Alimentaire\n",
        "\n",
        "\n"
      ],
      "metadata": {
        "id": "6xwjLt6FVqMg"
      }
    },
    {
      "cell_type": "markdown",
      "source": [
        "#### Nettoyage & Formatage Dataframe"
      ],
      "metadata": {
        "id": "gxppsLzxV2VY"
      }
    },
    {
      "cell_type": "markdown",
      "source": [
        "##### 1 Import du RAW"
      ],
      "metadata": {
        "id": "pQG6HqpsTU0N"
      }
    },
    {
      "cell_type": "code",
      "source": [
        "#FAO  Securité Alimentaire   https://www.fao.org/faostat/fr/#data/FS \n",
        "# Rubrique Toutes les données \thttps://fenixservices.fao.org/faostat/static/bulkdownloads/Données_de_la_sécurité_alimentaire_F_Toutes_les_Données_(Normalisé).zip\n",
        "#Probleme encodage donc import dans Excel\n",
        "SecuAlim=pd.read_excel('https://github.com/vincent-arese/OC-P04VA/blob/main/FAOdata/SecuAlim.xlsx?raw=true', sheet_name='SecuAlim',usecols = [i for i in range(10)])\n",
        "# SecuAlim.xlsx"
      ],
      "metadata": {
        "id": "ClYQCKFeXXb1"
      },
      "execution_count": null,
      "outputs": []
    },
    {
      "cell_type": "code",
      "source": [
        "# Nettoyage SecuAlim \n",
        "\n",
        "# Supprimerles lignes sans Valeur : Colonne 'Valeur' => 5159 NaN sur 148060 rows × 10 columns\n",
        "SecuAlim=SecuAlim.dropna() # drop Row ayant au moins un NaN   \n",
        "\n",
        "\n",
        "# Drop  les CodeZone correspondant à des agrégats ( continent, groupe de pays ........... ) =>  CodeZone>=400 ! \n",
        "''' 'Pays les moins développés' 'Pays sans littoral en voie de développement' 'Petites îles en voie de Développement'  'Pays à faible revenu et à déficit vivrier' 'Pays à faible revenu'  'Pays à revenu moyen' 'High-income economies'  'Upper-middle-income economies' '''\n",
        "\n",
        "SecuAlim.drop(SecuAlim.loc[SecuAlim['CodeZone'] >= 400].index, inplace=True)\n",
        "# print(SecuAlim.Zone.unique(),'\\nTotal:',len(SecuAlim.Zone.unique())) #   Verfier Si le filtre a bien fonctionné\n",
        "\n",
        "\n",
        "# Converions Période/Année en AnnéeREF \n",
        "# SecuAlim.loc[SecuAlim.AnnéeREF >=3000,'AnnéeREF'] : TEST pour isoler les Années simple des Periodes) \n",
        "# SecuAlim.loc[SecuAlim.AnnéeREF >=3000,'AnnéeREF'].astype(str).str[:4].astype(int)  Isoler la Année_début de la periode\n",
        "# AnnéeREF =(Année_début +Année_fin)/2 \n",
        "\n",
        "SecuAlim.rename(columns={'CodeAnnée':'AnnéeREF'},inplace=True)\n",
        "SecuAlim.loc[SecuAlim.AnnéeREF >=3000,'AnnéeREF']=((SecuAlim.loc[SecuAlim.AnnéeREF >=3000,'AnnéeREF'].astype(str).str[:4].astype(int)+SecuAlim.loc[SecuAlim.AnnéeREF >=3000,'AnnéeREF'].astype(str).str[4:8].astype(int))/2).astype(int)\n",
        "\n",
        "\n",
        "SecuAlim"
      ],
      "metadata": {
        "id": "SXpM4eiykF8Q"
      },
      "execution_count": null,
      "outputs": []
    },
    {
      "cell_type": "code",
      "source": [
        "SecuAlim['ListeProduit']=SecuAlim.CodeProduit.astype(str)+'-'+SecuAlim.Produit # Creation Colonne listeProduit pour filtrage \n",
        "SecuAlim.ListeProduit.unique()  # Print listeProduit pour filtrage "
      ],
      "metadata": {
        "id": "qtd0wQm56753"
      },
      "execution_count": null,
      "outputs": []
    },
    {
      "cell_type": "code",
      "source": [
        "# DEBUG  Recheches des Années dispo  pour chaque CodeProduit (Non dispo = futur NaN)\n",
        "\n",
        "df=SecuAlim\n",
        "listeCodeProduit=SecuAlim.ListeProduit.unique() \n",
        "for p in listeCodeProduit:\n",
        "  print(p,' : \\n',df[(df.ListeProduit == p) & (df.AnnéeREF >= 2000)].AnnéeREF.unique(),'\\n' )\n",
        "\n",
        "\n",
        "# DEBUG Requettes Intermediaires pour faire la boucle For\n",
        "# filtered_df[(filtered_df.CodeProduit == 210081) & (filtered_df.AnnéeREF >= 2000)].head(20)\n",
        "# filtered_df[(filtered_df.CodeProduit == 210081) & (filtered_df.AnnéeREF >= 2000)].AnnéeREF.unique()\n",
        "\n",
        "\n",
        "\n"
      ],
      "metadata": {
        "id": "OEDKaseslX6v"
      },
      "execution_count": null,
      "outputs": []
    },
    {
      "cell_type": "code",
      "source": [
        "# Restriction : Choix des CodeProduit à conserver  cf. ListeProduit au-dessus\n",
        "\n",
        "SelectedCodeProduit=[21013,21014,210011,21056,21057,21061] ;SelectedCodeProduit\n",
        "\n",
        "SecuAlim_selected=SecuAlim[SecuAlim.CodeProduit.isin(SelectedCodeProduit)]\n",
        "\n",
        "#DEBUG \n",
        "# SecuAlim.CodeProduit ==21013   #etape0\n",
        "# SecuAlim.CodeProduit.isin([21013,21014,210011,21056,21057,21061]) # Etape1\n",
        "# SecuAlim_selected.CodeProduit.unique() #Verification restriction\n",
        "SecuAlim_selected.ListeProduit.unique() #Verification restriction\n",
        "\n"
      ],
      "metadata": {
        "id": "na6pUaSy-yc6"
      },
      "execution_count": null,
      "outputs": []
    },
    {
      "cell_type": "code",
      "source": [
        "SecuAlim_selected.head(5)\n",
        "# SecuAlim_selected.describe(include='all')  # ==> Valeur contient '<0.1' ==> objet\n",
        "# SecuAlim_selected.info()   # ==>  Valeur 19193 non-null  object"
      ],
      "metadata": {
        "id": "_juVMrHPWTVL"
      },
      "execution_count": null,
      "outputs": []
    },
    {
      "cell_type": "code",
      "source": [
        "# DEBUG  recherche NaN  - OK \n",
        "temp=SecuAlim_selected\n",
        "temp.isnull().sum(axis=0) # Total nombre de NaN par colonne\n",
        "# test=temp[temp.isnull().any(axis=1)] ; test #Afficher les lignes ayant au moins 1 NaN\n",
        "# len(test)\n",
        "# test.Zone.unique()\n"
      ],
      "metadata": {
        "id": "gqUkExBTbIgy"
      },
      "execution_count": null,
      "outputs": []
    },
    {
      "cell_type": "code",
      "source": [
        "# DEBUG  Recheches des Années dispo  pour chaque CodeProduit (Non dispo = futur NaN)\n",
        "\n"
      ],
      "metadata": {
        "id": "5mqx1rfukK8s"
      },
      "execution_count": null,
      "outputs": []
    },
    {
      "cell_type": "code",
      "source": [
        "SecuAlim_selected[(SecuAlim_selected.AnnéeREF==2000) & (SecuAlim_selected.CodeProduit==21061)]"
      ],
      "metadata": {
        "id": "gb41_JiYgEO0"
      },
      "execution_count": null,
      "outputs": []
    },
    {
      "cell_type": "code",
      "source": [
        "# Pivot table pour structurer le dataframe\n",
        "\n",
        "# SecuAlim_selected.columns \n",
        "\"\"\" Index(['CodeZone', 'Zone', 'CodeProduit', 'Produit', 'CodeElément', 'Elément', 'AnnéeREF', 'Année', 'Unité', 'Valeur', 'ListeProduit'], dtype='object') \"\"\"\n",
        "\n",
        "SecuAlimP=SecuAlim_selected.pivot( index=['CodeZone','Zone','AnnéeREF'],columns=['ListeProduit'], values='Valeur')  \n",
        "SecuAlimP\n",
        "\n"
      ],
      "metadata": {
        "id": "JZSshUZLeazq"
      },
      "execution_count": null,
      "outputs": []
    },
    {
      "cell_type": "code",
      "source": [
        "# Convertion df multi-index  vers  df index simple\n",
        "temp=SecuAlimP\n",
        "\n",
        "temp.columns=temp.columns.to_flat_index() # colonnes => concatener le multi index en un index simple https://datascientyst.com/flatten-multiindex-in-pandas/\n",
        "#tableZ.columns = tableZ.columns.get_level_values(0) + '_' +  tableZ.columns.get_level_values(1).astype(str)+ '_' + tableZ.columns.get_level_values(2)\n",
        "\n",
        "temp=temp.reset_index() # lignes Conversion de multi-index en colonnes.\n",
        "temp"
      ],
      "metadata": {
        "id": "iSOF9Si8hIZr"
      },
      "execution_count": null,
      "outputs": []
    },
    {
      "cell_type": "code",
      "source": [
        "# DEBUG  recherche NaN  - OK \n",
        "# temp=SecuAlim_selected\n",
        "temp.isnull().sum(axis=0) # Total nombre de NaN par colonne\n",
        "test=temp[temp.isnull().any(axis=1)] ; test #Afficher les lignes ayant au moins 1 NaN\n",
        "# len(test)\n",
        "test.AnnéeREF.unique()"
      ],
      "metadata": {
        "id": "fLQ_UJP-h45Q"
      },
      "execution_count": null,
      "outputs": []
    },
    {
      "cell_type": "code",
      "source": [
        "SecuAlimP.info()"
      ],
      "metadata": {
        "id": "s3gm0qDYfC98"
      },
      "execution_count": null,
      "outputs": []
    },
    {
      "cell_type": "code",
      "source": [
        "# DEBUG  recherche NaN  \n",
        "temp=SecuAlimP\n",
        "temp.isnull().sum(axis=0) # Total nombre de NaN par colonne\n",
        "# test=temp[temp.isnull().any(axis=1)] ; test #Afficher les lignes ayant au moins 1 NaN\n",
        "# len(test)\n",
        "test.Zone.unique()"
      ],
      "metadata": {
        "id": "yZByzASUek9Q"
      },
      "execution_count": null,
      "outputs": []
    },
    {
      "cell_type": "code",
      "source": [
        "# Chamger les Valeurs '<0.1' pour passer colonne Valeur du type objet à float\n",
        "SecuAlim_selected[SecuAlim_selected.Valeur =='<0.1'] # Selectionner les rows dont Valeur == '<0.1'\n",
        "\n",
        "SecuAlim_selected=SecuAlim_selected.replace('<0.1', '0.000001')  # Remplacer '<0.1' par  '0.000001' dans le DataFrame SecuAlim_selected\n",
        "\n",
        "#DEBUG : Verif selection \n",
        "# SecuAlim_selected[SecuAlim_selected.Valeur =='<0.1'] # DEBUG Selectionner les rows dont Valeur == '<0.1'\n",
        "# SecuAlim_selected[SecuAlim_selected.Valeur =='0.000001'] # DEBUG Selectionner les rows dont Valeur == '0.000001'\n",
        "\n",
        "SecuAlim_selected.Valeur=SecuAlim_selected.Valeur.astype(float) # Conversion au type float\n",
        "\n",
        "\n",
        "#DEBUG : Verif \n",
        "# SecuAlim_selected.info() #   Valeur 19193 non-null  float64 / len(SecuAlim_selected) #19193\n",
        "\n",
        "SecuAlim_selected"
      ],
      "metadata": {
        "id": "Gmv379rzZq_a"
      },
      "execution_count": null,
      "outputs": []
    },
    {
      "cell_type": "code",
      "source": [
        "len(SecuAlim_selected)"
      ],
      "metadata": {
        "id": "notlyePnd0dD"
      },
      "execution_count": null,
      "outputs": []
    },
    {
      "cell_type": "code",
      "source": [
        "SecuAlim_selected[SecuAlim_selected.Valeur =='<0.1'] # Selection des rows \n",
        "\n",
        "# SecuAlim_selected[SecuAlim_selected.Valeur =='<0.1'].replace('<0.1',0.0000001) # Ne fonctionne pas !!!!!! \n",
        "\n",
        "\n",
        "\n",
        "\n",
        "# SecuAlim_selected.replace('<0.1',0.000001)\n",
        "\n",
        "# SecuAlim_selected.loc[SecuAlim_selected.Valeur =='<0.1','Valeur']\n",
        "\n",
        "# SecuAlim_selected[SecuAlim_selected.loc[SecuAlim_selected.Valeur =='<0.1','Valeur']]=0.000001\n",
        "# tableZ[tableZ.Zone.str.contains(\"Chine|Fran\") == True]\n",
        "# SecuAlim_selected[SecuAlim_selected.Valeur.str.contains('<0.1')==True]\n",
        "# SecuAlim_selected.Valeur.astype(float)\n",
        "# SecuAlim_selected.describe(include='all')\n",
        "# SecuAlim_selected.info()"
      ],
      "metadata": {
        "id": "6T4fqqVgSm9b"
      },
      "execution_count": null,
      "outputs": []
    },
    {
      "cell_type": "code",
      "source": [
        "# SecuAlim_selected[SecuAlim_selected.loc[SecuAlim_selected.Valeur =='<0.1','Valeur']]=0.000001   # Pas ok \n",
        "\n",
        "# SecuAlim_selected.loc[SecuAlim_selected['Valeur']=='<0.1','Valeur']=0.000001  # A value is trying to be set on a copy of a slice from a DataFrame.\n",
        "# SecuAlim_selected['Valeur']=='<0.1']='0.000001' \n",
        "\n",
        "# SecuAlim_selected.replace({'<0.1': '0.000001'}) # PAS OK un nouvelle colonne \n",
        "\n",
        "\n",
        "\n",
        "\n",
        "# SecuAlim_selected['Valeur']=='<0.1'\n",
        "# SecuAlim_selected[SecuAlim_selected.Valeur =='<0.1'] #OK"
      ],
      "metadata": {
        "id": "CQVHujGHbNXu"
      },
      "execution_count": null,
      "outputs": []
    },
    {
      "cell_type": "code",
      "source": [
        "SecuAlim_selected[(SecuAlim_selected.Valeur =='<0.1') & (SecuAlim_selected.AnnéeREF==2000)]\n",
        "SecuAlim_selected[(SecuAlim_selected.AnnéeREF==2000)].head(40)"
      ],
      "metadata": {
        "id": "RnWaPS6Xgo6e"
      },
      "execution_count": null,
      "outputs": []
    },
    {
      "cell_type": "code",
      "source": [
        "SecuAlimP=SecuAlim_selected.pivot( index=['CodeZone','Zone','AnnéeREF'],columns=['ListeProduit'], values='Valeur')  \n",
        "\n",
        "SecuAlimP"
      ],
      "metadata": {
        "id": "hi_w5-pZRtBl"
      },
      "execution_count": null,
      "outputs": []
    },
    {
      "cell_type": "code",
      "source": [
        "# DEBUG  recherche NaN   - OK \n",
        "temp=SecuAlimP\n",
        "temp.isnull().sum(axis=0) # Total nombre de NaN par colonne\n",
        "test=temp[temp.isnull().any(axis=1)] ; test #Afficher les lignes ayant au moins 1 NaN\n",
        "len(test)\n",
        "# test.Zone.unique()"
      ],
      "metadata": {
        "id": "Z3bAb79GRNl6"
      },
      "execution_count": null,
      "outputs": []
    },
    {
      "cell_type": "code",
      "source": [
        "SecuAlim_selected.describe(include='all')"
      ],
      "metadata": {
        "id": "WilgDtaVH2HA"
      },
      "execution_count": null,
      "outputs": []
    },
    {
      "cell_type": "code",
      "source": [
        "# DEBUG  recherche NaN  \n",
        "temp=SecuAlim_selected\n",
        "temp.isnull().sum(axis=0) # Total nombre de NaN par colonne\n",
        "# test=temp[temp.isnull().any(axis=1)] ; test #Afficher les lignes ayant au moins 1 NaN\n",
        "# len(test)\n",
        "# test.Zone.unique()"
      ],
      "metadata": {
        "id": "E1XZpvH5kKc8"
      },
      "execution_count": null,
      "outputs": []
    },
    {
      "cell_type": "code",
      "execution_count": null,
      "metadata": {
        "id": "UuKwC9iZh5Kn"
      },
      "outputs": [],
      "source": [
        "#FAO  Securité Alimentaire   https://www.fao.org/faostat/fr/#data/FS \n",
        "# Rubrique Toutes les données \thttps://fenixservices.fao.org/faostat/static/bulkdownloads/Données_de_la_sécurité_alimentaire_F_Toutes_les_Données_(Normalisé).zip\n",
        "# Fichier unzip & converti en UTF8 \n",
        "SecuAlimRAW=pd.read_csv(DataPATH+'SecuAlimUTF8.csv',sep=';')\n",
        "\n",
        "# Formatage SecuAlimRAW\n",
        "SecuAlimRAW.rename(columns={'Code zone' : 'CodeZone', 'Code Produit': 'CodeProduit', 'Code Élément':'CodeElement','Élément':'Element', 'Code année':'AnnéeREF'},inplace=True)\n",
        "SecuAlimRAW.drop(columns=['Note','Element'],inplace=True)\n",
        "#DEBUG SecuAlimRAW\n",
        "\n",
        "\n",
        "# Converions Période (Année) en AnnéeREF ( TEST pour isoler les Periodes  &  moyenne des deux bornes pour déterminer l'AnnéeREF)\n",
        "SecuAlimRAW.loc[SecuAlimRAW.AnnéeREF >=3000,'AnnéeREF']=((SecuAlimRAW.loc[SecuAlimRAW.AnnéeREF >=3000,'AnnéeREF'].astype(str).str[:4].astype(int)+SecuAlimRAW.loc[SecuAlimRAW.AnnéeREF >=3000,'AnnéeREF'].astype(str).str[4:8].astype(int))/2).astype(int)\n",
        "\n",
        "## DEBUG    Requettes  partielles \n",
        "#            SecuAlimRAW.AnnéeREF.unique()  \n",
        "#                   SecuAlimRAW.loc[SecuAlimRAW.AnnéeREF >=3000,'AnnéeREF'].unique()\n",
        "#                   SecuAlimRAW.loc[SecuAlimRAW.AnnéeREF >=3000,'AnnéeREF'].astype(str).str[:4].astype(int)\n",
        "#SecuAlimRAW.AnnéeREF.unique() #test pour valider Code \n",
        "\n",
        "SecuAlimRAW.head(5)"
      ]
    },
    {
      "cell_type": "code",
      "source": [
        "# DEBUG \n",
        "print(SecuAlim.Zone.unique(),'\\nTotal:',len(SecuAlim.Zone.unique()))"
      ],
      "metadata": {
        "id": "hQscIBuj12-2"
      },
      "execution_count": null,
      "outputs": []
    },
    {
      "cell_type": "code",
      "source": [
        "# DEBUG  recherche NaN \n",
        "temp=SecuAlimRAW\n",
        "temp.isnull().sum(axis=0) # Total nombre de NaN par colonne\n",
        "test=temp[temp.isnull().any(axis=1)] ; test #Afficher les lignes ayant au moins 1 NaN\n",
        "# len(test)\n",
        "test.Produit.unique()"
      ],
      "metadata": {
        "id": "ck6gqIIHWwpN"
      },
      "execution_count": null,
      "outputs": []
    },
    {
      "cell_type": "code",
      "source": [
        "# DEBUG SecuAlimRAW.info();SecuAlimRAW.columns"
      ],
      "metadata": {
        "id": "Fv-SkIIZPoxJ"
      },
      "execution_count": null,
      "outputs": []
    },
    {
      "cell_type": "code",
      "source": [
        "# DEBUG print(SecuAlimRAW.Zone.unique(),'\\nTotal:',len(SecuAlimRAW.Zone.unique()))"
      ],
      "metadata": {
        "id": "1vbewJG7Wcb4"
      },
      "execution_count": null,
      "outputs": []
    },
    {
      "cell_type": "markdown",
      "source": [
        "##### 2 Nettoyage"
      ],
      "metadata": {
        "id": "CXcbYobSTkCd"
      }
    },
    {
      "cell_type": "code",
      "execution_count": null,
      "metadata": {
        "id": "42WbJviAD2wJ"
      },
      "outputs": [],
      "source": [
        "#Nettoyage  Restriction SecuAlimRAW\n",
        "# Drop  les CodeZone correspondant à des agrégats ( continent, groupe de pays ........... ) =>  CodeZone>=400 ! \n",
        "''' 'Pays les moins développés' 'Pays sans littoral en voie de développement' 'Petites îles en voie de Développement'  'Pays à faible revenu et à déficit vivrier' 'Pays à faible revenu'  'Pays à revenu moyen' 'High-income economies'  'Upper-middle-income economies' '''\n",
        "# DEBUG  print(SecuAlimRAW.Zone.unique(),'\\nTotal:',len(SecuAlimRAW.Zone.unique()\n",
        "\n",
        "df=SecuAlimRAW\n",
        "df.drop(df.loc[df['CodeZone'] >= 400].index, inplace=True)\n",
        "#DEBUG print(df.Zone.unique(),'\\nTotal:',len(df.Zone.unique())) #   Verfier Si le filtre a bien fonctionné\n",
        "\n",
        "\n",
        "df['ListeProduit']=df.CodeProduit.astype(str)+'-'+df.Produit # Creation Colonne listeProduit pour filtrage \n",
        "df.ListeProduit.unique()\n"
      ]
    },
    {
      "cell_type": "code",
      "source": [
        "# Restriction avec un Masque pour choisir les Codeproduits à afficher\n",
        "#df_mask=(df.CodeProduit==21010)\n",
        "\n",
        "df_mask=(df.CodeProduit==21013)|(df.CodeProduit==21014)|(df.CodeProduit==210011)|(df.CodeProduit==21056)|(df.CodeProduit==21057)|(df.CodeProduit==21061)\n",
        "# df_mask=(df.CodeProduit==21013)|(df.CodeProduit==21014)|(df.CodeProduit==210011)|(df.CodeProduit==210071)|(df.CodeProduit==210081)|(df.CodeProduit==21056)|(df.CodeProduit==21057)|(df.CodeProduit==21061) #Ancienne liste\n",
        "\n",
        "filtered_df = df[df_mask]\n",
        "\n",
        "filtered_df.query('AnnéeREF==2010').head(20)\n",
        "#DEBUG print(filtered_df.CodeProduit.unique(),'\\n',filtered_df.ListeProduit.unique())  # Vérif CodeProduit sélectionnées ! \n",
        "\n"
      ],
      "metadata": {
        "id": "NiH7FgTjcmH4"
      },
      "execution_count": null,
      "outputs": []
    },
    {
      "cell_type": "code",
      "source": [
        "# DEBUG  Recheches des Années dispo  pour chaque CodeProduit (Non dispo = futur NaN)\n",
        "\n",
        "listeCodeProduit=filtered_df.CodeProduit.unique()\n",
        "for p in listeCodeProduit:\n",
        "  print(p,' : ',filtered_df[(filtered_df.CodeProduit == p) & (filtered_df.AnnéeREF >= 2000)].AnnéeREF.unique(),'\\n' )\n",
        "\n",
        "\n",
        "# DEBUG Requettes Intermediaires pour faire la boucle For\n",
        "# filtered_df[(filtered_df.CodeProduit == 210081) & (filtered_df.AnnéeREF >= 2000)].head(20)\n",
        "# filtered_df[(filtered_df.CodeProduit == 210081) & (filtered_df.AnnéeREF >= 2000)].AnnéeREF.unique()\n",
        "\n"
      ],
      "metadata": {
        "id": "u0AiZbC987-i"
      },
      "execution_count": null,
      "outputs": []
    },
    {
      "cell_type": "code",
      "source": [
        "df=filtered_df\n",
        "#Note df.columns  # Index(['CodeZone', 'Zone', 'CodeProduit', 'Produit', 'CodeElement', 'AnnéeREF', 'Année', 'Unité', 'Valeur', 'Symbole', 'ListeProduit'],     dtype='object')\n",
        "\n",
        "# Creation du Pivot table  pour basculer les lignes en colonnes  et DF multi-index pour visualiser \n",
        "tableP=df.pivot( index=['CodeZone','Zone','AnnéeREF'],columns=['ListeProduit'], values='Valeur')    # tableP=df.pivot( index=['CodeZone','Zone','AnnéeREF', 'Année'],columns=['ListeProduit'], values='Valeur')\n",
        "tableP\n",
        "#tableZ=df.pivot( index=['CodeZone','Zone','Année','AnnéeREF'],columns=['ListeProduit'], values='Valeur')\n"
      ],
      "metadata": {
        "id": "flaklk8TXtvd"
      },
      "execution_count": null,
      "outputs": []
    },
    {
      "cell_type": "code",
      "source": [
        "# Convertion df multi-index  vers  df index simple\n",
        "tableZ=tableP\n",
        "\n",
        "tableZ.columns=tableZ.columns.to_flat_index() # colonnes => concatener le multi index en un index simple https://datascientyst.com/flatten-multiindex-in-pandas/\n",
        "#tableZ.columns = tableZ.columns.get_level_values(0) + '_' +  tableZ.columns.get_level_values(1).astype(str)+ '_' + tableZ.columns.get_level_values(2)\n",
        "\n",
        "tableZ=tableZ.reset_index() # lignes Conversion de multi-index en colonnes.\n",
        "\n",
        "#Iterration de toutes  colonnes  du dataFrame pour remplacer une valeur \n",
        "for (colname,colval) in tableZ.iteritems():\n",
        "    # print(colname, colval.values)\n",
        "    tableZ.loc[tableZ[colname] =='<0.1', colname] = 0.000001 \n",
        "\n",
        "tableZ.CodeZone=tableZ.CodeZone.astype(int)\n",
        "tableZ.AnnéeREF=tableZ.AnnéeREF.astype(int)\n",
        "#tableZ[['21056-Besoins énergétiques alimentaires minimaux (kcal/personne/jour)','21056-Besoins énergétiques alimentaires minimaux (kcal/personne/jour)']].astype(float)\n",
        "pd.to_numeric(tableZ['21056-Besoins énergétiques alimentaires minimaux (kcal/personne/jour)'])\n",
        "# tableZ\n",
        "\n",
        "# Jointure pour data visualisation sur map \n",
        "# GeoTable=tableZ.merge(PAYS, left_on='CodeZone',right_on='Code_Pays')\n",
        "# GeoTable.drop(['CodeContinent','Code_ZoneContinent','Code_Pays','Pays'], axis=1)\n",
        "\n",
        "tableZ=tableZ.merge(PAYS, left_on='CodeZone',right_on='Code_Pays').drop(['CodeContinent','Code_ZoneContinent','Code_Pays','Pays'], axis=1) #.fillna(0)\n",
        "\n",
        "\n",
        "\n",
        "tableZ.CodeZone=tableZ.CodeZone.astype(int)\n",
        "tableZ.AnnéeREF=tableZ.AnnéeREF.astype(int)\n",
        "tableZ[['210011-Nombre de personnes sous-alimentées (millions) (moyenne sur 3 ans)',\n",
        "       '21013-Disponibilités protéiques moyennes (g/personne/jour) (moyenne sur 3 ans)',\n",
        "       '21014-Disponibilités protéines moyennes d’origine animale (g/personne/jour) (moyenne sur 3 ans)',\n",
        "       '21056-Besoins énergétiques alimentaires minimaux (kcal/personne/jour)',\n",
        "       '21057-Besoins énergétiques alimentaires moyens (kcal/personne/jour)',\n",
        "       '21061-Disponibilités moyennes de matière grasse (g/personne/jour) (moyenne sur 3 ans)']]=tableZ[['210011-Nombre de personnes sous-alimentées (millions) (moyenne sur 3 ans)',\n",
        "       '21013-Disponibilités protéiques moyennes (g/personne/jour) (moyenne sur 3 ans)',\n",
        "       '21014-Disponibilités protéines moyennes d’origine animale (g/personne/jour) (moyenne sur 3 ans)',\n",
        "       '21056-Besoins énergétiques alimentaires minimaux (kcal/personne/jour)',\n",
        "       '21057-Besoins énergétiques alimentaires moyens (kcal/personne/jour)',\n",
        "       '21061-Disponibilités moyennes de matière grasse (g/personne/jour) (moyenne sur 3 ans)']].astype(float)\n",
        "# tableZ['210011-Nombre de personnes sous-alimentées (millions) (moyenne sur 3 ans)']=tableZ['210011-Nombre de personnes sous-alimentées (millions) (moyenne sur 3 ans)'].astype(float)\n",
        "tableZ=tableZ.fillna (0)\n",
        "\n",
        "tableZ.info()"
      ],
      "metadata": {
        "id": "uBtvPPLbensv"
      },
      "execution_count": null,
      "outputs": []
    },
    {
      "cell_type": "markdown",
      "source": [
        "#### test des NaN  "
      ],
      "metadata": {
        "id": "Yprsk6VXRRi-"
      }
    },
    {
      "cell_type": "code",
      "source": [
        "# DEBUG  recherche NaN   - OK \n",
        "temp=tableZ\n",
        "temp.isnull().sum(axis=0) # Total nombre de NaN par colonne\n",
        "# test=temp[temp.isnull().any(axis=1)] ; test #Afficher les lignes ayant au moins 1 NaN\n",
        "# len(test)\n",
        "# test.Zone.unique()"
      ],
      "metadata": {
        "id": "awDU4DhYQ7ol"
      },
      "execution_count": null,
      "outputs": []
    },
    {
      "cell_type": "markdown",
      "source": [
        "#### test des NaN  ancienne Version "
      ],
      "metadata": {
        "id": "e52_TK5tJdiV"
      }
    },
    {
      "cell_type": "code",
      "source": [
        "tableZ[tableZ.isnull().any(axis=1)]"
      ],
      "metadata": {
        "id": "JOCJQ3Sn-Yy7"
      },
      "execution_count": null,
      "outputs": []
    },
    {
      "cell_type": "code",
      "source": [
        "tableZ.isna().any() #tableZ.isnull().any()"
      ],
      "metadata": {
        "id": "omfrvTZXBX43"
      },
      "execution_count": null,
      "outputs": []
    },
    {
      "cell_type": "code",
      "source": [
        "tableZ.isnull().any(axis=1) # equivalent : tableZ.isna().any(axis=1)"
      ],
      "metadata": {
        "id": "_vLNa6EnBTqv"
      },
      "execution_count": null,
      "outputs": []
    },
    {
      "cell_type": "code",
      "source": [
        "tableZ.isnull().sum(axis=0)"
      ],
      "metadata": {
        "id": "es4U-PD59t48"
      },
      "execution_count": null,
      "outputs": []
    },
    {
      "cell_type": "code",
      "source": [
        "tableZ.info()"
      ],
      "metadata": {
        "id": "HbG4sONo8J-9"
      },
      "execution_count": null,
      "outputs": []
    },
    {
      "cell_type": "code",
      "source": [
        "#Iteration data frame  (toutes les valeurs &  Sans Doublons)\n",
        "for (colname,colval) in tableZ.iteritems():\n",
        "    # print(colname, colval.values)\n",
        "    print(colname, colval.unique())"
      ],
      "metadata": {
        "id": "AZoleuba5ehL"
      },
      "execution_count": null,
      "outputs": []
    },
    {
      "cell_type": "markdown",
      "source": [
        "#Graphes"
      ],
      "metadata": {
        "id": "LfLKt-LXce2o"
      }
    },
    {
      "cell_type": "markdown",
      "source": [
        "### Test Graph1"
      ],
      "metadata": {
        "id": "G-Se5FGHbnIO"
      }
    },
    {
      "cell_type": "code",
      "source": [
        "#INFO tableZ.columns\n",
        "\"\"\" Index(['CodeZone', 'Zone', 'AnnéeREF',\n",
        "       '210011-Nombre de personnes sous-alimentées (millions) (moyenne sur 3 ans)',\n",
        "       '21013-Disponibilités protéiques moyennes (g/personne/jour) (moyenne sur 3 ans)',\n",
        "       '21014-Disponibilités protéines moyennes d’origine animale (g/personne/jour) (moyenne sur 3 ans)',\n",
        "       '21056-Besoins énergétiques alimentaires minimaux (kcal/personne/jour)',\n",
        "       '21057-Besoins énergétiques alimentaires moyens (kcal/personne/jour)',\n",
        "       '21061-Disponibilités moyennes de matière grasse (g/personne/jour) (moyenne sur 3 ans)'],\n",
        "      dtype='object', name='ListeProduit')\n",
        "\"\"\"\n",
        "\n",
        "import plotly.express as px\n",
        "fig = px.line(tableZ, x='AnnéeREF', y='210011-Nombre de personnes sous-alimentées (millions) (moyenne sur 3 ans)', color='Zone', markers=True)\n",
        "fig.show()"
      ],
      "metadata": {
        "id": "LdPWuKMIZ3Re"
      },
      "execution_count": null,
      "outputs": []
    },
    {
      "cell_type": "code",
      "source": [
        ""
      ],
      "metadata": {
        "id": "CaR8cD6vIfL7"
      },
      "execution_count": null,
      "outputs": []
    },
    {
      "cell_type": "markdown",
      "source": [
        "### Seaborn Violin demo "
      ],
      "metadata": {
        "id": "YrnOdlp8Ig1S"
      }
    },
    {
      "cell_type": "code",
      "source": [
        "import seaborn as sns\n",
        "sns.set_theme(style=\"whitegrid\")\n",
        "\n",
        "# Load the example tips dataset\n",
        "tips = sns.load_dataset(\"tips\")\n",
        "\n",
        "# Draw a nested violinplot and split the violins for easier comparison\n",
        "sns.violinplot(data=tips, x=\"day\", y=\"total_bill\", hue=\"smoker\",\n",
        "               split=True, inner=\"quart\", linewidth=1,\n",
        "               palette={\"Yes\": \"b\", \"No\": \".85\"})\n",
        "sns.despine(left=True)"
      ],
      "metadata": {
        "id": "d-4r_dI9IDmj"
      },
      "execution_count": null,
      "outputs": []
    },
    {
      "cell_type": "code",
      "source": [
        "tips"
      ],
      "metadata": {
        "id": "GLgAi0LpInxb"
      },
      "execution_count": null,
      "outputs": []
    },
    {
      "cell_type": "code",
      "source": [
        "tableZ.describe()\n",
        "# tableZ.describe(include='all')"
      ],
      "metadata": {
        "id": "95ffHyyq4l_H"
      },
      "execution_count": null,
      "outputs": []
    },
    {
      "cell_type": "markdown",
      "source": [
        "### Bilan Alimentaire"
      ],
      "metadata": {
        "id": "mGnnGMMmb_vQ"
      }
    },
    {
      "cell_type": "markdown",
      "source": [
        "#### Formatage et Netttoyage des données"
      ],
      "metadata": {
        "id": "mFeNKGZecHLA"
      }
    },
    {
      "cell_type": "code",
      "source": [
        "BilanAlimRAW.info()"
      ],
      "metadata": {
        "id": "wqZeXpZNcGbQ"
      },
      "execution_count": null,
      "outputs": []
    },
    {
      "cell_type": "code",
      "source": [
        "BilanAlimRAW"
      ],
      "metadata": {
        "id": "oW-9vEYtceBo"
      },
      "execution_count": null,
      "outputs": []
    },
    {
      "cell_type": "markdown",
      "source": [
        "# Plotly Demo "
      ],
      "metadata": {
        "id": "3oJlUJg8bwJs"
      }
    },
    {
      "cell_type": "markdown",
      "source": [
        "### Plotly demo map with animation"
      ],
      "metadata": {
        "id": "4c1PjHCrYnHT"
      }
    },
    {
      "cell_type": "code",
      "source": [
        "g = sns.PairGrid(tableZ)\n",
        "g.map_diag(sns.histplot)"
      ],
      "metadata": {
        "id": "umdRDoOvSvuP"
      },
      "execution_count": null,
      "outputs": []
    },
    {
      "cell_type": "code",
      "source": [
        "tableZ.plot.hist(bins=100)"
      ],
      "metadata": {
        "id": "2MbZK4bNNCxR"
      },
      "execution_count": null,
      "outputs": []
    },
    {
      "cell_type": "code",
      "source": [
        "tableZ.plot()"
      ],
      "metadata": {
        "id": "1R3jLYCKal8t"
      },
      "execution_count": null,
      "outputs": []
    },
    {
      "cell_type": "code",
      "source": [
        "tableZ.hist(bins=100,color=\"green\") ; plt.show()"
      ],
      "metadata": {
        "id": "SBCcidq1XE1y"
      },
      "execution_count": null,
      "outputs": []
    },
    {
      "cell_type": "code",
      "source": [
        "tableZ['210011-Nombre de personnes sous-alimentées (millions) (moyenne sur 3 ans)'].plot.hist()\n"
      ],
      "metadata": {
        "id": "M0AsUmpDNnDA"
      },
      "execution_count": null,
      "outputs": []
    },
    {
      "cell_type": "code",
      "source": [
        "tableZ['21013-Disponibilités protéiques moyennes (g/personne/jour) (moyenne sur 3 ans)'].plot.hist()"
      ],
      "metadata": {
        "id": "D35SKyNfUca-"
      },
      "execution_count": null,
      "outputs": []
    },
    {
      "cell_type": "code",
      "source": [
        "tableZ.columns"
      ],
      "metadata": {
        "id": "UL34T7tTNdju"
      },
      "execution_count": null,
      "outputs": []
    },
    {
      "cell_type": "code",
      "source": [
        "#Iteration data frame  (toutes les valeurs &  Sans Doublons)\n",
        "for (colname,colval) in tableZ.iteritems():\n",
        "    # print(colname, colval.values)\n",
        "    print(colname, colval.unique())\n"
      ],
      "metadata": {
        "id": "xLFxu2WjNSUo"
      },
      "execution_count": null,
      "outputs": []
    },
    {
      "cell_type": "code",
      "source": [
        "tableZ.columns"
      ],
      "metadata": {
        "id": "Gn2YTCE4ZAs7"
      },
      "execution_count": null,
      "outputs": []
    },
    {
      "cell_type": "code",
      "source": [
        "import plotly.express as px\n",
        "\n",
        "fig = px.scatter_geo(tableZ, locations=\"AlphaISO3\", color=\"ZoneContinent\",\n",
        "                     hover_name=\"Zone\", size=\"21056-Besoins énergétiques alimentaires minimaux (kcal/personne/jour)\",\n",
        "                     animation_frame=\"AnnéeREF\",\n",
        "                     projection=\"natural earth\")\n",
        "fig.show()"
      ],
      "metadata": {
        "id": "QuNei7rRY6A0"
      },
      "execution_count": null,
      "outputs": []
    },
    {
      "cell_type": "code",
      "source": [
        "import plotly.express as px\n",
        "\n",
        "fig = px.scatter_geo(tableZ, locations=\"AlphaISO3\", color=\"ZoneContinent\",\n",
        "                     hover_name=\"Zone\", size=\"21057-Besoins énergétiques alimentaires moyens (kcal/personne/jour)\",\n",
        "                     animation_frame=\"AnnéeREF\",\n",
        "                     projection=\"natural earth\")\n",
        "fig.show()"
      ],
      "metadata": {
        "id": "wDSFCJEyLEOC"
      },
      "execution_count": null,
      "outputs": []
    },
    {
      "cell_type": "code",
      "source": [
        "px.strip(tableZ, x=\"21056-Besoins énergétiques alimentaires minimaux (kcal/personne/jour)\",hover_name='Zone',color=\"continent\")"
      ],
      "metadata": {
        "id": "Vc-FWj82M8-E"
      },
      "execution_count": null,
      "outputs": []
    },
    {
      "cell_type": "code",
      "source": [
        "px.histogram(tableZ, x=\"21056-Besoins énergétiques alimentaires minimaux (kcal/personne/jour)\",hover_name='Zone',color=\"continent\",marginal=\"rug\")"
      ],
      "metadata": {
        "id": "O6fso7ezN_5k"
      },
      "execution_count": null,
      "outputs": []
    },
    {
      "cell_type": "code",
      "source": [
        "px.histogram(tableZ, x=\"21056-Besoins énergétiques alimentaires minimaux (kcal/personne/jour)\",hover_name='Zone',color=\"continent\",marginal=\"rug\",facet_col=\"continent\")"
      ],
      "metadata": {
        "id": "LDQxiZaHPgMp"
      },
      "execution_count": null,
      "outputs": []
    },
    {
      "cell_type": "code",
      "source": [
        "px.histogram(tableZ, x=\"21056-Besoins énergétiques alimentaires minimaux (kcal/personne/jour)\",y='AnnéeREF',hover_name='Zone',color=\"continent\",marginal=\"rug\")"
      ],
      "metadata": {
        "id": "fZjLbWmwPPmK"
      },
      "execution_count": null,
      "outputs": []
    },
    {
      "cell_type": "code",
      "source": [
        "tableZ.columns"
      ],
      "metadata": {
        "id": "mR4jHHMBPO7r"
      },
      "execution_count": null,
      "outputs": []
    },
    {
      "cell_type": "code",
      "source": [
        "px.bar(tableZ, color=\"21056-Besoins énergétiques alimentaires minimaux (kcal/personne/jour)\",x=\"AnnéeREF\",y=\"continent\",hover_name=\"Zone\")"
      ],
      "metadata": {
        "id": "_e86jVh_P3bx"
      },
      "execution_count": null,
      "outputs": []
    },
    {
      "cell_type": "code",
      "source": [
        "px.sunburst(tableZ, color=\"21056-Besoins énergétiques alimentaires minimaux (kcal/personne/jour)\",values=\"AnnéeREF\",path=[\"continent\",\"Zone\"],hover_name=\"Zone\", height=800)"
      ],
      "metadata": {
        "id": "Pwtr3j32RRBX"
      },
      "execution_count": null,
      "outputs": []
    },
    {
      "cell_type": "code",
      "source": [
        "px.treemap(tableZ, color=\"21056-Besoins énergétiques alimentaires minimaux (kcal/personne/jour)\",values=\"AnnéeREF\",path=[\"continent\",\"Zone\"],hover_name=\"Zone\", height=800)"
      ],
      "metadata": {
        "id": "auxT9u2qRQmP"
      },
      "execution_count": null,
      "outputs": []
    },
    {
      "cell_type": "code",
      "source": [
        "px.choropleth(tableZ, color=\"21056-Besoins énergétiques alimentaires minimaux (kcal/personne/jour)\", locations=\"AlphaISO3\",hover_name=\"Zone\", height=500)"
      ],
      "metadata": {
        "id": "5FlsSzsDSBWQ"
      },
      "execution_count": null,
      "outputs": []
    },
    {
      "cell_type": "code",
      "source": [
        "fig = px.scatter_geo(tableZ.query(\"AnnéeREF==2017\"), locations=\"AlphaISO3\", color=\"continent\",\n",
        "                     hover_name=\"Zone\", size=\"21057-Besoins énergétiques alimentaires moyens (kcal/personne/jour)\", projection=\"natural earth\")\n",
        "fig.show()"
      ],
      "metadata": {
        "id": "6epOoy6FKaVA"
      },
      "execution_count": null,
      "outputs": []
    },
    {
      "cell_type": "code",
      "source": [
        "import plotly.express as px\n",
        "\n",
        "tableG=tableZ\n",
        "tableG['210011-Nombre de personnes sous-alimentées (millions) (moyenne sur 3 ans)']\n",
        "# tableG['210011-Nombre de personnes sous-alimentées (millions) (moyenne sur 3 ans)']=tableG[('210011-Nombre de personnes sous-alimentées (millions) (moyenne sur 3 ans)'>=0.0)]\n",
        "# fig = px.scatter_geo(tableZ, locations=\"AlphaISO3\", color=\"ZoneContinent\",\n",
        "#                      hover_name=\"Zone\", size=\"210011-Nombre de personnes sous-alimentées (millions) (moyenne sur 3 ans)\",\n",
        "#                      animation_frame=\"AnnéeREF\",\n",
        "#                      projection=\"natural earth\")\n",
        "# fig.show()"
      ],
      "metadata": {
        "id": "a1wigWUfLbRS"
      },
      "execution_count": null,
      "outputs": []
    },
    {
      "cell_type": "markdown",
      "source": [
        "### Exemple"
      ],
      "metadata": {
        "id": "5ICcf_twYxGa"
      }
    },
    {
      "cell_type": "code",
      "source": [
        "import plotly.express as px\n",
        "df = px.data.gapminder()\n",
        "fig = px.scatter_geo(df, locations=\"iso_alpha\", color=\"continent\",\n",
        "                     hover_name=\"country\", size=\"pop\",\n",
        "                     animation_frame=\"year\",\n",
        "                     projection=\"natural earth\")\n",
        "fig.show()"
      ],
      "metadata": {
        "id": "rRG-1cljYtqU"
      },
      "execution_count": null,
      "outputs": []
    },
    {
      "cell_type": "markdown",
      "source": [
        "##### Plotly Demo1 "
      ],
      "metadata": {
        "id": "F3X8HgKEbhZM"
      }
    },
    {
      "cell_type": "code",
      "source": [
        "import plotly.express as px\n",
        "df = px.data.gapminder().query(\"continent == 'Oceania'\")\n",
        "fig = px.line(df, x='year', y='lifeExp', color='country', markers=True)\n",
        "fig.show()"
      ],
      "metadata": {
        "id": "OTC8csoQawqT"
      },
      "execution_count": null,
      "outputs": []
    },
    {
      "cell_type": "code",
      "source": [
        "df = px.data.gapminder().query(\"continent == 'Oceania'\");df"
      ],
      "metadata": {
        "id": "RtzDCUMLaDbM"
      },
      "execution_count": null,
      "outputs": []
    },
    {
      "cell_type": "code",
      "source": [
        "import plotly.express as px\n",
        "df = px.data.stocks(indexed=True)\n",
        "fig = px.line(df, facet_row=\"company\", facet_row_spacing=0.01, height=200, width=200)\n",
        "\n",
        "# hide and lock down axes\n",
        "fig.update_xaxes(visible=False, fixedrange=True)\n",
        "fig.update_yaxes(visible=False, fixedrange=True)\n",
        "\n",
        "# remove facet/subplot labels\n",
        "fig.update_layout(annotations=[], overwrite=True)\n",
        "\n",
        "# strip down the rest of the plot\n",
        "fig.update_layout(\n",
        "    showlegend=False,\n",
        "    plot_bgcolor=\"white\",\n",
        "    margin=dict(t=10,l=10,b=10,r=10)\n",
        ")\n",
        "\n",
        "# disable the modebar for such a small plot\n",
        "fig.show(config=dict(displayModeBar=False))"
      ],
      "metadata": {
        "id": "VbuUfbIqcRDz"
      },
      "execution_count": null,
      "outputs": []
    },
    {
      "cell_type": "code",
      "source": [
        "df"
      ],
      "metadata": {
        "id": "Y8nVkxcocTsh"
      },
      "execution_count": null,
      "outputs": []
    },
    {
      "cell_type": "markdown",
      "source": [
        "# DIVers Code"
      ],
      "metadata": {
        "id": "F7SCjviqb9Ai"
      }
    },
    {
      "cell_type": "code",
      "source": [
        "tableZ[tableZ.Zone.str.contains(\"Chine|Fran\") == True]"
      ],
      "metadata": {
        "id": "6AEBZyI9OKle"
      },
      "execution_count": null,
      "outputs": []
    },
    {
      "cell_type": "code",
      "source": [
        "#DEBUG \n",
        "DECRIRE(tableZ)"
      ],
      "metadata": {
        "id": "uoIvz_2vlzJc"
      },
      "execution_count": null,
      "outputs": []
    },
    {
      "cell_type": "code",
      "source": [
        "\n",
        "\n",
        "\n",
        "#tableZ=df.pivot( index=['CodeZone','Zone','Année','AnnéeREF'],columns=['ListeProduit'], values='Valeur')\n",
        "\n",
        "tableZ=df.pivot( index=['CodeZone','Zone','AnnéeREF'],columns=['ListeProduit'], values='Valeur')\n",
        "\n",
        "tableZ.columns=tableZ.columns.to_flat_index() # colonnes => concatener le multi index en un index simple https://datascientyst.com/flatten-multiindex-in-pandas/\n",
        "#tableZ.columns = tableZ.columns.get_level_values(0) + '_' +  tableZ.columns.get_level_values(1).astype(str)+ '_' + tableZ.columns.get_level_values(2)\n",
        "\n",
        "tableZ=tableZ.reset_index() # lignes Conversion de multi-index en colonnes.\n",
        "\n",
        "tableZ.fillna(0, inplace=True)# ATTENTION  NaN remplacé par des zéro ( 0 <=> NaN)\n",
        "\n",
        "#Iterration de toutes  colonnes  du dataFrame pour remplacer une valeur \n",
        "for (colname,colval) in tableZ.iteritems():\n",
        "    #print(colname, colval.values)\n",
        "    tableZ.loc[tableZ[colname] =='<0.1', colname] = 0.000001 \n",
        "\n",
        "#tableZ.CodeZone=tableZ.CodeZone.astype(int)\n",
        "#tableZ.AnnéeREF=tableZ.AnnéeREF.astype(int)\n",
        "tableZ.rename(index={'ListeProduit':'index'}, inplace=True)\n",
        "\n",
        "\n",
        "tableZ2=tableZ\n",
        "\n",
        "# Changment manuel dans une colonne \n",
        "#tableZ.loc[tableZ['210011-Nombre de personnes sous-alimentées (millions) (moyenne sur 3 ans)'] =='<0.1', '210011-Nombre de personnes sous-alimentées (millions) (moyenne sur 3 ans)'] = 0.000001 ; #snut.snut_millionsHab=snut.snut_millionsHab.astype(float)\n",
        "#tableZ['210011-Nombre de personnes sous-alimentées (millions) (moyenne sur 3 ans)']=tableZ['210011-Nombre de personnes sous-alimentées (millions) (moyenne sur 3 ans)'].astype(float)"
      ],
      "metadata": {
        "id": "iTDsk7tXdXHh"
      },
      "execution_count": null,
      "outputs": []
    },
    {
      "cell_type": "code",
      "source": [
        "\n",
        "\n",
        "# DEBUG tableZ[tableZ['Zone'].str.contains('Fr') & (tableZ.AnnéeREF>=2017)]\n",
        "\n",
        "print(tableZ['21056-Besoins énergétiques alimentaires minimaux (kcal/personne/jour)'].isnull().sum(),\n",
        "      tableZ['21056-Besoins énergétiques alimentaires minimaux (kcal/personne/jour)'].notnull().sum(),\n",
        "    \n",
        " \n",
        ")\n",
        "#type(tableZ['21056-Besoins énergétiques alimentaires minimaux (kcal/personne/jour)'])\n",
        "\n",
        "\n",
        "#tableZ['21056-Besoins énergétiques alimentaires minimaux (kcal/personne/jour)'].fillna(0).describe()\n",
        "\n",
        "\n",
        "\n",
        "tableZ.describe(include='all')\n",
        "tableZ2.info()"
      ],
      "metadata": {
        "id": "okTA-T9vzXkC"
      },
      "execution_count": null,
      "outputs": []
    },
    {
      "cell_type": "code",
      "source": [
        "# DEBUG tableZ.describe(include='all')  "
      ],
      "metadata": {
        "id": "bEsW4fSqbiU4"
      },
      "execution_count": null,
      "outputs": []
    },
    {
      "cell_type": "code",
      "source": [
        "tableZ.info()"
      ],
      "metadata": {
        "id": "VrDHI4w5cUF_"
      },
      "execution_count": null,
      "outputs": []
    },
    {
      "cell_type": "code",
      "execution_count": null,
      "metadata": {
        "id": "so-a_kEHFUHo"
      },
      "outputs": [],
      "source": [
        "df.info()"
      ]
    },
    {
      "cell_type": "code",
      "execution_count": null,
      "metadata": {
        "id": "qC8A3H-9GuB7"
      },
      "outputs": [],
      "source": [
        "# Reshape du dataframe\n",
        "#table = pd.pivot_table(SecuAlimRAW,index=['CodeZone','Zone','AnnéeREF'], columns=['CodeProduit','Produit'])\n",
        "table = pd.pivot_table(SecuAlimRAW,index=['CodeZone','Zone','AnnéeREF',\t'CodeAnnée','Année'], columns=['CodeProduit','Produit']) ;table"
      ]
    },
    {
      "cell_type": "code",
      "execution_count": null,
      "metadata": {
        "id": "ZVuOEkvI0x7l"
      },
      "outputs": [],
      "source": [
        "# Converstion du df multi index en dataframe index simple \n",
        "tableZ=table\n",
        " \n",
        "# tableZ.columns=tableZ.columns.to_flat_index() # colonnes => concatener le multi index en un index simple https://datascientyst.com/flatten-multiindex-in-pandas/\n",
        "tableZ.columns = tableZ.columns.get_level_values(0) + '_' +  tableZ.columns.get_level_values(1).astype(str)+ '_' + tableZ.columns.get_level_values(2)\n",
        "\n",
        "tableZ=tableZ.reset_index() # lignes Conversion de multi-index en colonnes.\n",
        "tableZ\n",
        "\n",
        "#https://techblog.deepki.com/dataframe-multi-index/"
      ]
    },
    {
      "cell_type": "code",
      "execution_count": null,
      "metadata": {
        "id": "EVvqLqhECV6O"
      },
      "outputs": [],
      "source": [
        "tableZ[\"CodeElement_21048_Pourcentage de la population utilisant au moins les services d'assainissement de base\"].unique()"
      ]
    },
    {
      "cell_type": "code",
      "execution_count": null,
      "metadata": {
        "id": "K_tN8qRCvG7E"
      },
      "outputs": [],
      "source": [
        "tableX=tableZ.mask(tableZ.CodeZone>=5000) \n",
        "tableX.dropna();tableX\n"
      ]
    },
    {
      "cell_type": "markdown",
      "source": [
        "## DataSet [OC]"
      ],
      "metadata": {
        "id": "rv5m6129LIcL"
      }
    },
    {
      "cell_type": "code",
      "execution_count": null,
      "metadata": {
        "id": "PbnGzJyyKQUF"
      },
      "outputs": [],
      "source": [
        "#  Importer les données en Pandas dataframe\n",
        "#aideDataPATH='/content/drive/MyDrive/DataSc/P4VA/'\n",
        "DataPATH='https://raw.githubusercontent.com/vincent-arese/OC-P04VA/main/data/'\n",
        "\n",
        "aide=pd.read_csv(DataPATH+'aide_alimentaire.csv')  #OK\n",
        "dispo=pd.read_csv(DataPATH+'dispo_alimentaire.csv')\n",
        "population=pd.read_csv(DataPATH+'population.csv') #ok\n",
        "snut=pd.read_csv(DataPATH+'sous_nutrition.csv')      # en Cours ........\n",
        "geocode=pd.read_csv(DataPATH+'CodePaysMonde.csv', sep = ';')"
      ]
    },
    {
      "cell_type": "code",
      "source": [
        "dispo"
      ],
      "metadata": {
        "id": "RIqVnSt3LsIj"
      },
      "execution_count": null,
      "outputs": []
    },
    {
      "cell_type": "markdown",
      "source": [
        "# Nouvelle section"
      ],
      "metadata": {
        "id": "6udqvzh_nOsC"
      }
    },
    {
      "cell_type": "code",
      "source": [
        "snut"
      ],
      "metadata": {
        "id": "-bavdaIPNOcc"
      },
      "execution_count": null,
      "outputs": []
    },
    {
      "cell_type": "markdown",
      "source": [
        "# Nouvelle section"
      ],
      "metadata": {
        "id": "E50Df26FnNyi"
      }
    },
    {
      "cell_type": "markdown",
      "source": [
        "https://fenixservices.fao.org/faostat/static/bulkdownloads/BilansAlimentaires_F_Toutes_les_Données_(Normalisé\n",
        ").zip\n",
        "\n",
        "\n",
        "https://www.fao.org/faostat/fr/#data/FBS\n",
        "\n",
        "\n",
        "\n"
      ],
      "metadata": {
        "id": "HE_TY_9anRQN"
      }
    },
    {
      "cell_type": "code",
      "execution_count": null,
      "metadata": {
        "id": "1589AU9qV2o4"
      },
      "outputs": [],
      "source": [
        "#df = pd.read_csv('https://fenixservices.fao.org/faostat/static/bulkdownloads/FoodBalanceSheets_E_All_Data_(Normalized).zip')"
      ]
    }
  ],
  "metadata": {
    "colab": {
      "name": "P4-VA-FAOdata.ipynb",
      "provenance": [],
      "collapsed_sections": [
        "G-Se5FGHbnIO",
        "YrnOdlp8Ig1S",
        "4c1PjHCrYnHT"
      ],
      "toc_visible": true,
      "mount_file_id": "1j7niurRYnfd1xBOZt2xdRgEVxRAlQfhb",
      "authorship_tag": "ABX9TyOuUcCrrbOJlmUrlq7ELqu1",
      "include_colab_link": true
    },
    "kernelspec": {
      "display_name": "Python 3",
      "name": "python3"
    },
    "language_info": {
      "name": "python"
    }
  },
  "nbformat": 4,
  "nbformat_minor": 0
}